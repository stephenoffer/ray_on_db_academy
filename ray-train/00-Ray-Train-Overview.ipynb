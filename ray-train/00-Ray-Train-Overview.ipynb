{
 "cells": [
  {
   "cell_type": "markdown",
   "metadata": {},
   "source": [
    "# Ray Train - Overview\n",
    "\n",
    "## About This Tutorial\n",
    "<img src=\"https://images.ctfassets.net/xjan103pcp94/7kS5Mc1LeZRPqVlItSGMNI/3b863c02e9d0569da038c69ec2537864/image_1.jpg\"  width=\"800\" height=\"200\" alt=\"Ray Summit 2021\"/>\n",
    "</a>\n",
    "\n",
    "[Ray Train](https://docs.ray.io/en/latest/train/train.html), formerly known as **Ray SGD**, is a lightweight library for distributed deep learning, allowing you to scale up and speed up training for your deep learning models. Currently, Ray Train is available as beta (or experimental) in Ray 1.9 release, offering the following features:\n",
    "\n",
    " * Scale to multi-GPU and multi-node training with 0 code changes\n",
    "\n",
    " * Runs seamlessly on any cloud (AWS, GCP, Azure, Kubernetes, or on-prem)\n",
    "\n",
    " * Supports PyTorch, TensorFlow, and Horovod \n",
    "\n",
    " * Distributed data loading and hyperparameter tuning\n",
    "\n",
    " * Built-in loggers for TensorBoard and MLflow\n",
    "\n",
    "See the instructions in the [README](../README.md) for setting up your environment to use this tutorial.\n",
    "\n",
    "Go [here](../Overview.ipynb) for an overview of all tutorials."
   ]
  },
  {
   "cell_type": "markdown",
   "metadata": {},
   "source": [
    "|     | Lesson | Description |\n",
    "| :-- | :----- | :---------- |\n",
    "| 00  | [Ray Train Overview](00-Ray-Train-Overview.ipynb) | Overview of this tutorial. |\n",
    "| 01  | [Ray Train Quickstart ](01-Ray-Train-Quickstart.ipynb) | A quick start on PyTorch training on single worker. |\n",
    "| 02  | [Ray Train Quickstart Distributed](02-Ray-Train-Quickstart-Distributed.ipynb) |A quick start on PyTorch Distributed training on multiple workers . |\n",
    "| 03  | [Ray Train with PyTorch](03-Ray-Train-with-PyTorch.ipynb) | Use Ray Train Distributed API to train a linear model |\n",
    "| 04  | [Ray Train with PyTorch and FashionMNSIT](04-Ray-Train-with-PyTorch-FashionMNIST.ipynb) | Use Ray Train Distributed API to train a NN for FashionMNIST |\n",
    "|     | [Ray Train Examples](https://docs.ray.io/en/latest/train/examples.html) | Explore examples for Ray Train with PyTorch, TensorFlow, and Horvod. |"
   ]
  }
 ],
 "metadata": {
  "kernelspec": {
   "display_name": "Python 3 (ipykernel)",
   "language": "python",
   "name": "python3"
  },
  "language_info": {
   "codemirror_mode": {
    "name": "ipython",
    "version": 3
   },
   "file_extension": ".py",
   "mimetype": "text/x-python",
   "name": "python",
   "nbconvert_exporter": "python",
   "pygments_lexer": "ipython3",
   "version": "3.8.12"
  }
 },
 "nbformat": 4,
 "nbformat_minor": 4
}
