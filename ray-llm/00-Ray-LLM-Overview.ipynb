{
 "cells": [
  {
   "cell_type": "markdown",
   "metadata": {},
   "source": [
    "# Ray LLM Applications - Overview\n",
    "\n",
    "*Work in Progress*\n",
    "\n",
    "## Ray LLM Applications Tutorial Guide\n",
    "\n",
    "| #  | Lesson (Notebook)                                         | Description                               |\n",
    "| :- | :-------------------------------------------------------- | :---------------------------------------- |\n",
    "| 00 | [Overview](00-Ray-LLM-Overview.ipynb)   | A _table of contents_ for this tutorial.  |\n",
    "| 01 | [Ray Prompt Engineering](01-Ray-Prompt-Engineering.ipynb) | How to use Prompt Engineering |\n",
    "| 02 | [Ray RAG](02-Ray-LLM-Rag.ipynb) | Example RAG Architecture |\n",
    "| 03 | [Ray RAG](02-Ray-LLM-Rag.ipynb) | Example RAG Architecture |\n",
    "| 04 | [Ray RAG](02-Ray-LLM-Fine-Tuning.ipynb) | How to Fine Tune LLM Models using Ray |\n",
    "| 02 | [Ray RAG](02-Ray-LLM-Serving.ipynb) | How to integrate with Databricks Model Serving |"
   ]
  }
 ],
 "metadata": {
  "language_info": {
   "name": "python"
  }
 },
 "nbformat": 4,
 "nbformat_minor": 2
}
