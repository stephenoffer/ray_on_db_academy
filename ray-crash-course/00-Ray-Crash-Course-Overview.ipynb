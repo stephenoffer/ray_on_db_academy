{
 "cells": [
  {
   "cell_type": "markdown",
   "metadata": {},
   "source": [
    "# Ray \"Core Crash Course\" Overview\n",
    "\n",
    "\n",
    "## About This Tutorial\n",
    "\n",
    "This tutorial provides a \"just the facts\" introduction to [Ray](https://ray.io), the system for scaling your Python and ML applications from a laptop to a cluster. Here, we start with a hands on exploration of the core Ray API for distributed work loads:\n",
    "\n",
    "* Ray _tasks_: Distributed execution of _stateless_ Python functions.\n",
    "* Ray _actors_: Distributed execution of _stateful_ Python classes.\n",
    "* Ray _ObjectRef_: Distributed Object Store for storing Future ObjectRefs.\n",
    "\n",
    "Subsequent lessons explore the origin and goals for Ray, the rest of the core [Ray](https://ray.io) API ([documentation](https://ray.readthedocs.io/en/latest/package-ref.html)), working with Ray clusters using the `ray` command-line interface (CLI), Ray replacement versions of several popular multiprocessing APIs.\n",
    "\n",
    "Pick among those lessons according to your interests. "
   ]
  },
  {
   "cell_type": "markdown",
   "metadata": {},
   "source": [
    "## \"Crash Ray Core Course\" Tutorial Guide\n",
    "\n",
    "| #  | Lesson (Notebook)                                         | Description                               |\n",
    "| :- | :-------------------------------------------------------- | :---------------------------------------- |\n",
    "| 00 | [Overview](00-Ray-Crash-Course-Overview.ipynb)            | A _table of contents_ for this tutorial.  |\n",
    "| 01 | [Ray Tasks](01-Ray-Tasks.ipynb)                           | Understanding how Ray converts normal Python functions into distributed _stateless tasks_. |\n",
    "| 02 | [Ray Actors](02-Ray-Actors.ipynb)                         | Understanding how Ray converts normal Python classes into distributed, _stateful actors_.  |\n",
    "| 03 | [Ray Actors](02-Ray-Objects.ipynb)                         | Understanding Ray's distributed obect store  |\n",
    "| 04 | [Exploring Ray API Calls](04-Exploring-Ray-API-Calls.ipynb) | The Ray API has other API calls for more advanced scenarios, which are surveyed in this optional lesson. Keyword arguments you can pass to the API calls already learned are explored. |\n",
    "| 05 | [Running Ray Clusters](05-Running-Ray-Clusters.ipynb)     | A brief look at the Ray CLI commands for running Ray clusters. |\n",
    "| 06 | [Using Ray's Multiprocess Pool Library](06-Ray-multi-pool.ipynb)     | A brief look how you use Ray's dropin replacement for Multiprocess pool library. |\n"
   ]
  },
  {
   "cell_type": "markdown",
   "metadata": {},
   "source": [
    "In addition, exercise solutions for this tutorial can be found [here](solutions/Ray-Crash-Course-Solutions.ipynb)."
   ]
  }
 ],
 "metadata": {
  "kernelspec": {
   "display_name": "Python 3 (ipykernel)",
   "language": "python",
   "name": "python3"
  },
  "language_info": {
   "codemirror_mode": {
    "name": "ipython",
    "version": 3
   },
   "file_extension": ".py",
   "mimetype": "text/x-python",
   "name": "python",
   "nbconvert_exporter": "python",
   "pygments_lexer": "ipython3",
   "version": "3.8.12"
  }
 },
 "nbformat": 4,
 "nbformat_minor": 4
}
