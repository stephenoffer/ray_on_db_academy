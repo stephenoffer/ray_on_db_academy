{
 "cells": [
  {
   "cell_type": "markdown",
   "metadata": {},
   "source": [
    "# Ray Data - Overview\n",
    "\n",
    "*Work in Progress*\n",
    "\n",
    "## Ray Data Tutorial Guide\n",
    "\n",
    "| #  | Lesson (Notebook)                                         | Description                               |\n",
    "| :- | :-------------------------------------------------------- | :---------------------------------------- |\n",
    "| 00 | [Overview](00-Ray-Data-Overview.ipynb)   | A _table of contents_ for this tutorial.  |\n",
    "| 01 | [Ray Data Intro](01-Ray-Data-Intro.ipynb) | Introduction to Ray.data operations |\n",
    "| 02 | [Ray Data and Spark](02-Ray-Data-Spark.ipynb) | How to Integrate Ray Data and Spark |"
   ]
  }
 ],
 "metadata": {
  "language_info": {
   "name": "python"
  }
 },
 "nbformat": 4,
 "nbformat_minor": 2
}
