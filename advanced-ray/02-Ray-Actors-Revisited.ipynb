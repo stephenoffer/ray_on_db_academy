{
 "cells": [
  {
   "cell_type": "markdown",
   "metadata": {},
   "source": [
    "# Ray Actors Revisited\n",
    "\n",
    "The [Ray Crash Course](../ray-crash-course/00-Ray-Crash-Course-Overview.ipynb) introduced the core concepts of Ray's API and how they parallelize work. Specifically, we learned how to define Ray _tasks_ and _actors_, run them, and retrieve the results. \n",
    "\n",
    "This lesson explores Ray actors in greater depth, including the following:\n",
    "\n",
    "* Detached actors\n",
    "* Specifying limits on the number of invocations and retries on failure\n",
    "* Actor pools\n",
    "* Actor Patterns"
   ]
  },
  {
   "cell_type": "code",
   "execution_count": 1,
   "metadata": {},
   "outputs": [],
   "source": [
    "import ray, time, sys, os \n",
    "import numpy as np \n",
    "sys.path.append(\"..\")\n",
    "from util.printing import pd  # convenience methods for printing results."
   ]
  },
  {
   "cell_type": "markdown",
   "metadata": {},
   "source": [
    "## Ray namespaces concept\n",
    "\n",
    "A namespace is a logical grouping of jobs and named actors. When an actor is named, its name must be unique within the namespace.\n",
    "Named actors, which we discuss below, are only accessible within their namespaces.\n",
    "\n",
    "In order to set your applications namespace, it should be specified when you first connect to the cluster."
   ]
  },
  {
   "cell_type": "code",
   "execution_count": 2,
   "metadata": {},
   "outputs": [
    {
     "name": "stderr",
     "output_type": "stream",
     "text": [
      "2022-03-16 15:55:37,922\tINFO services.py:1412 -- View the Ray dashboard at \u001b[1m\u001b[32mhttp://127.0.0.1:8265\u001b[39m\u001b[22m\n"
     ]
    },
    {
     "data": {
      "text/plain": [
       "{'node_ip_address': '127.0.0.1',\n",
       " 'raylet_ip_address': '127.0.0.1',\n",
       " 'redis_address': None,\n",
       " 'object_store_address': '/tmp/ray/session_2022-03-16_15-55-35_553735_58108/sockets/plasma_store',\n",
       " 'raylet_socket_name': '/tmp/ray/session_2022-03-16_15-55-35_553735_58108/sockets/raylet',\n",
       " 'webui_url': '127.0.0.1:8265',\n",
       " 'session_dir': '/tmp/ray/session_2022-03-16_15-55-35_553735_58108',\n",
       " 'metrics_export_port': 56973,\n",
       " 'gcs_address': '127.0.0.1:59103',\n",
       " 'address': '127.0.0.1:59103',\n",
       " 'node_id': '4a70b5a2ee284de10f8025aef3267f22f659b7f49bcb339fd63238d7'}"
      ]
     },
     "execution_count": 2,
     "metadata": {},
     "output_type": "execute_result"
    }
   ],
   "source": [
    "from ray.util.spark import setup_ray_cluster, shutdown_ray_cluster\n",
    "\n",
    "setup_ray_cluster(\n",
    "  num_worker_nodes=2,\n",
    "  num_cpus_per_node=4,\n",
    "  collect_log_to_path=\"/dbfs/path/to/ray_collected_logs\"\n",
    ")\n",
    "ray.init()"
   ]
  },
  {
   "cell_type": "markdown",
   "metadata": {},
   "source": [
    "The Ray Dashboard URL is printed above and also part of the output dictionary item `webui_url`"
   ]
  },
  {
   "cell_type": "markdown",
   "metadata": {},
   "source": [
    "## Named and Detached Actors\n",
    "[Detached actors](https://docs.ray.io/en/latest/advanced.html#detached-actors) are designed to be long-lived actors that can be referenced by name and must be explicitly cleaned up. They are not deleted automatically when references to them go out of scope, as for regular actors. \n",
    "\n",
    "Detached actors are useful for \"services,\" where different tasks and actors in the application want to lookup an actor and use it.\n",
    "\n",
    "> **Note:** This is an evolving feature. Check the [documentation](https://docs.ray.io/en/latest/advanced.html#detached-actors) for the latest details.\n",
    "\n",
    "Here is an example of a \"normal\" actor definition:"
   ]
  },
  {
   "cell_type": "code",
   "execution_count": 3,
   "metadata": {},
   "outputs": [],
   "source": [
    "@ray.remote\n",
    "class Counter:\n",
    "    def __init__(self):\n",
    "        self.label = 'Counter'\n",
    "        self.count = 0\n",
    "    def next(self):\n",
    "        self.count += 1\n",
    "        return self.count"
   ]
  },
  {
   "cell_type": "markdown",
   "metadata": {},
   "source": [
    "Now create a detached instance of it."
   ]
  },
  {
   "cell_type": "code",
   "execution_count": 4,
   "metadata": {},
   "outputs": [],
   "source": [
    "counter1 = Counter.options(name=\"Counter1\", lifetime=\"detached\").remote()\n",
    "counter2 = Counter.options(name=\"Counter2\", lifetime=\"detached\").remote()"
   ]
  },
  {
   "cell_type": "markdown",
   "metadata": {},
   "source": [
    "Then we can use it \"somewhere else\":"
   ]
  },
  {
   "cell_type": "code",
   "execution_count": 5,
   "metadata": {},
   "outputs": [
    {
     "name": "stdout",
     "output_type": "stream",
     "text": [
      "[1, 2, 3, 4, 5, 6, 7, 8, 9, 10, 11, 12, 13, 14, 15, 16, 17, 18, 19, 20, 21, 22, 23, 24, 25, 26, 27, 28, 29, 30, 31, 32, 33, 34, 35, 36, 37, 38, 39, 40, 41, 42, 43, 44, 45, 46, 47, 48, 49, 50, 51, 52, 53, 54, 55, 56, 57, 58, 59, 60, 61, 62, 63, 64, 65, 66, 67, 68, 69, 70, 71, 72, 73, 74, 75, 76, 77, 78, 79, 80, 81, 82, 83, 84, 85, 86, 87, 88, 89, 90, 91, 92, 93, 94, 95, 96, 97, 98, 99, 100]\n"
     ]
    }
   ],
   "source": [
    "c1 = ray.get_actor(\"Counter1\")\n",
    "print(ray.get([c1.next.remote() for _ in range(100)]))"
   ]
  },
  {
   "cell_type": "code",
   "execution_count": 6,
   "metadata": {},
   "outputs": [
    {
     "name": "stdout",
     "output_type": "stream",
     "text": [
      "[1, 2, 3, 4, 5, 6, 7, 8, 9, 10, 11, 12, 13, 14, 15, 16, 17, 18, 19, 20, 21, 22, 23, 24, 25, 26, 27, 28, 29, 30, 31, 32, 33, 34, 35, 36, 37, 38, 39, 40, 41, 42, 43, 44, 45, 46, 47, 48, 49, 50, 51, 52, 53, 54, 55, 56, 57, 58, 59, 60, 61, 62, 63, 64, 65, 66, 67, 68, 69, 70, 71, 72, 73, 74, 75, 76, 77, 78, 79, 80, 81, 82, 83, 84, 85, 86, 87, 88, 89, 90, 91, 92, 93, 94, 95, 96, 97, 98, 99, 100]\n"
     ]
    }
   ],
   "source": [
    "c2 = ray.get_actor(\"Counter2\")\n",
    "print(ray.get([c2.next.remote() for _ in range(100)]))"
   ]
  },
  {
   "cell_type": "markdown",
   "metadata": {},
   "source": [
    "See also the notes on detached actors and actor lifecycles in the lesson [03: Ray Internals](03-Ray-Internals.ipynb). See also the [detached actors](https://docs.ray.io/en/latest/advanced.html#detached-actors) documentation."
   ]
  },
  {
   "cell_type": "markdown",
   "metadata": {},
   "source": [
    "To kill a detached actor, use `ray.kill()`:"
   ]
  },
  {
   "cell_type": "code",
   "execution_count": 7,
   "metadata": {},
   "outputs": [],
   "source": [
    "for actor in [c1, c2]:\n",
    "    ray.kill(actor)"
   ]
  },
  {
   "cell_type": "markdown",
   "metadata": {},
   "source": [
    "### Limitations\n",
    "\n",
    "This is a new feature with a few limitations, both of which will be fixed in a forthcoming release of Ray.\n",
    "\n",
    "While `ray.kill()` kills the actor, it does not remove the name from the registration table, currently. Hence, it isn't possible to reregister a new instance with the same name. \n",
    "\n",
    "If the actor was created with a configuration value of `max_restarts` not equal to zero (discussed in the next section). the actor will be restarted up to `max_restarts` time, which will be infinitely many times if the value was set to -1.\n",
    "\n",
    "A `no_restart=True|False` keyword argument is being added to `ray.kill()` for this situation:\n",
    "\n",
    "```python\n",
    "c = ray.get_actor(\"Counter1\")\n",
    "ray.kill(c, no_restart=True)  # new optional keyword argument\n",
    "```\n",
    "\n",
    "The `no_restart=True` will be necessary for these actors."
   ]
  },
  {
   "cell_type": "markdown",
   "metadata": {},
   "source": [
    "## Limiting Actor Invocations and Retries on Failure\n",
    "\n",
    "> **Note:** This feature may change in a future version of Ray. See the latest details in the [Ray documentation](https://docs.ray.io/en/latest/package-ref.html#ray.remote). \n",
    "\n",
    "Two options you can pass to `ray.remote` when defining an actor affect how often it can be invoked and retrying on failure:\n",
    "\n",
    "* `max_restarts`: This specifies the maximum number of times that the actor should be restarted when it dies unexpectedly. The minimum valid value is 0 (default), which indicates that the actor doesn't need to be restarted. A value of -1 indicates that an actor should be restarted indefinitely.\n",
    "* `max_task_retries`: How many times to retry an actor task if the task fails due to a system error, e.g., the actor has died. If set to -1, the system will retry the failed task until the task succeeds, or the actor has reached its max_restart limit. If set to to a value `n` greater than 0, the system will retry the failed task up to `n` times, after which time the task will throw a `RayActorError` exception when `ray.get` attempts to retrieve a result. Note that Python exceptions are not considered system errors and will not trigger retries.\n",
    "\n",
    "Example:\n",
    "\n",
    "```python\n",
    "@ray.remote(max_restarts=-1, max_task_retries=-1)\n",
    "class Foo():\n",
    "    pass\n",
    "```\n",
    "\n",
    "See the [ray.remote()](https://docs.ray.io/en/latest/package-ref.html#ray.remote) documentation for all the keyword arguments supported."
   ]
  },
  {
   "cell_type": "markdown",
   "metadata": {},
   "source": [
    "### Overriding with config()\n",
    "\n",
    "Remote task and actor objects returned by `@ray.remote` can also be dynamically modified with the same arguments supported by `ray.remote()` using `options()` as in the following example:\n",
    "\n",
    "```python\n",
    "@ray.remote(num_cpus=2, resources={\"CustomResource\": 1})\n",
    "class Foo:\n",
    "    def method(self):\n",
    "        return 1\n",
    "Bar = Foo.options(num_cpus=1, resources=None)\n",
    "```"
   ]
  },
  {
   "cell_type": "markdown",
   "metadata": {},
   "source": [
    "## Actor Pools\n",
    "\n",
    "The ray.util module contains a utility class, ActorPool. This class is similar to `multiprocessing.Pool` and lets you schedule Ray tasks over a fixed pool of actors."
   ]
  },
  {
   "cell_type": "code",
   "execution_count": 8,
   "metadata": {},
   "outputs": [],
   "source": [
    "from ray.util import ActorPool\n",
    "\n",
    "@ray.remote\n",
    "class Actor:\n",
    "    \n",
    "    def double(self, n):\n",
    "        return n * 2"
   ]
  },
  {
   "cell_type": "code",
   "execution_count": 9,
   "metadata": {},
   "outputs": [],
   "source": [
    "actor_pool_list = [Actor.remote() for _ in range(5)]\n",
    "pool = ActorPool(actor_pool_list)"
   ]
  },
  {
   "cell_type": "code",
   "execution_count": 10,
   "metadata": {},
   "outputs": [
    {
     "name": "stdout",
     "output_type": "stream",
     "text": [
      "[2, 4, 6, 8]\n"
     ]
    }
   ],
   "source": [
    "# pool.map(..) returns a Python generator object ActorPool.map\n",
    "gen = pool.map(lambda a, v: a.double.remote(v), [1, 2, 3, 4])\n",
    "print([v for v in gen])"
   ]
  },
  {
   "cell_type": "markdown",
   "metadata": {},
   "source": [
    "# Tree of Actors Pattern\n",
    "\n",
    "A common pattern used in Ray libraries [Ray Tune](https://docs.ray.io/en/latest/tune/index.html), [Ray Train](https://docs.ray.io/en/latest/train/train.html), and [RLlib](https://docs.ray.io/en/latest/rllib/index.html) to train models in a parallel or conduct distributed HPO.\n",
    "\n",
    "In this common pattern, tree of actors, a collection of workers as actors, are managed by a supervisor. For example, you want to train multiple models at the same time, while being able to checkpoint/inspect its state.\n",
    "\n",
    "<img src=\"https://docs.ray.io/en/latest/_images/tree-of-actors.svg\" width=\"40%\" height=\"20%\">\n",
    "\n",
    "Let's implement a simple example to illustrate this pattern."
   ]
  },
  {
   "cell_type": "code",
   "execution_count": 11,
   "metadata": {},
   "outputs": [],
   "source": [
    "import random\n",
    "STATES = [\"RUNNING\", \"TRAINING\", \"DONE\"]\n",
    "\n",
    "class Model:\n",
    "\n",
    "    def __init__(self, m:str):\n",
    "        self._model = m\n",
    "        self._grad = []\n",
    "\n",
    "    def train(self):\n",
    "        # do some training work here\n",
    "        for _ in range(5):\n",
    "            self._grad.append(random.random())\n",
    "        time.sleep(1)\n",
    "\n",
    "# Factory function to return an instance of a model type\n",
    "def model_factory(m: str):\n",
    "    return Model(m)"
   ]
  },
  {
   "cell_type": "markdown",
   "metadata": {},
   "source": [
    "### Create a Worker Actor"
   ]
  },
  {
   "cell_type": "code",
   "execution_count": 12,
   "metadata": {},
   "outputs": [],
   "source": [
    "@ray.remote\n",
    "class Worker(object):\n",
    "    def __init__(self, m:str):\n",
    "        # type of a model: lr, cl, or nn\n",
    "        self._model = m                  \n",
    "        \n",
    "    def state(self) -> str:\n",
    "        return random.choice(STATES)\n",
    "    \n",
    "    # Do the work for this model\n",
    "    def work(self) -> None:\n",
    "        model_factory(self._model).train()"
   ]
  },
  {
   "cell_type": "markdown",
   "metadata": {},
   "source": [
    "### Create Supervisor Actor "
   ]
  },
  {
   "cell_type": "code",
   "execution_count": 13,
   "metadata": {},
   "outputs": [],
   "source": [
    "@ray.remote\n",
    "class Supervisor:\n",
    "    def __init__(self):\n",
    "        # Create three Actor Workers, each by its unique model type\n",
    "        self.workers = [Worker.remote(name) for name in [\"lr\", \"cl\", \"nn\"]]\n",
    "                        \n",
    "    def start_workers(self):\n",
    "        # do the work \n",
    "        [w.work.remote() for w in self.workers]\n",
    "        \n",
    "    def terminate(self):\n",
    "        [ray.kill(w) for w in self.workers]\n",
    "        \n",
    "    def state(self):\n",
    "        return ray.get([w.state.remote() for w in self.workers])"
   ]
  },
  {
   "cell_type": "markdown",
   "metadata": {},
   "source": [
    "Create a Actor instance for supervisor and launch its workers"
   ]
  },
  {
   "cell_type": "code",
   "execution_count": 14,
   "metadata": {},
   "outputs": [
    {
     "data": {
      "text/plain": [
       "ObjectRef(338dfb787dc9ed0703c495e59083536fba5276c10100000001000000)"
      ]
     },
     "execution_count": 14,
     "metadata": {},
     "output_type": "execute_result"
    }
   ],
   "source": [
    "sup = Supervisor.remote()\n",
    "\n",
    "# Launch remote actors as workers\n",
    "sup.start_workers.remote()"
   ]
  },
  {
   "cell_type": "markdown",
   "metadata": {},
   "source": [
    "### Check status until all done"
   ]
  },
  {
   "cell_type": "code",
   "execution_count": 15,
   "metadata": {},
   "outputs": [
    {
     "name": "stdout",
     "output_type": "stream",
     "text": [
      "['RUNNING', 'DONE', 'DONE']\n",
      "['RUNNING', 'DONE', 'RUNNING']\n",
      "['DONE', 'TRAINING', 'DONE']\n",
      "['DONE', 'DONE', 'RUNNING']\n",
      "['TRAINING', 'RUNNING', 'TRAINING']\n",
      "['RUNNING', 'RUNNING', 'TRAINING']\n",
      "['TRAINING', 'TRAINING', 'RUNNING']\n",
      "['DONE', 'RUNNING', 'DONE']\n",
      "['RUNNING', 'RUNNING', 'DONE']\n",
      "['TRAINING', 'DONE', 'RUNNING']\n",
      "['DONE', 'RUNNING', 'DONE']\n",
      "['TRAINING', 'TRAINING', 'DONE']\n",
      "['RUNNING', 'TRAINING', 'TRAINING']\n",
      "['RUNNING', 'RUNNING', 'RUNNING']\n",
      "['DONE', 'RUNNING', 'DONE']\n",
      "['DONE', 'RUNNING', 'RUNNING']\n",
      "['TRAINING', 'DONE', 'DONE']\n",
      "['RUNNING', 'DONE', 'RUNNING']\n",
      "['TRAINING', 'TRAINING', 'DONE']\n",
      "['TRAINING', 'DONE', 'TRAINING']\n",
      "['DONE', 'TRAINING', 'TRAINING']\n",
      "['DONE', 'TRAINING', 'TRAINING']\n",
      "['TRAINING', 'RUNNING', 'RUNNING']\n",
      "['RUNNING', 'TRAINING', 'DONE']\n",
      "['TRAINING', 'DONE', 'RUNNING']\n",
      "['TRAINING', 'RUNNING', 'RUNNING']\n",
      "['RUNNING', 'TRAINING', 'TRAINING']\n",
      "['RUNNING', 'RUNNING', 'RUNNING']\n",
      "['RUNNING', 'RUNNING', 'RUNNING']\n",
      "['TRAINING', 'RUNNING', 'DONE']\n",
      "['TRAINING', 'RUNNING', 'RUNNING']\n",
      "['DONE', 'DONE', 'RUNNING']\n",
      "['RUNNING', 'RUNNING', 'DONE']\n",
      "['TRAINING', 'TRAINING', 'TRAINING']\n",
      "['DONE', 'DONE', 'TRAINING']\n",
      "['RUNNING', 'TRAINING', 'TRAINING']\n",
      "['DONE', 'RUNNING', 'DONE']\n",
      "['RUNNING', 'DONE', 'DONE']\n",
      "['DONE', 'TRAINING', 'DONE']\n",
      "['RUNNING', 'RUNNING', 'RUNNING']\n",
      "['DONE', 'TRAINING', 'RUNNING']\n",
      "['DONE', 'RUNNING', 'RUNNING']\n",
      "['RUNNING', 'TRAINING', 'TRAINING']\n",
      "['DONE', 'RUNNING', 'TRAINING']\n",
      "['DONE', 'TRAINING', 'RUNNING']\n",
      "['DONE', 'TRAINING', 'RUNNING']\n",
      "['RUNNING', 'RUNNING', 'RUNNING']\n",
      "['TRAINING', 'RUNNING', 'TRAINING']\n",
      "['RUNNING', 'RUNNING', 'RUNNING']\n",
      "['RUNNING', 'TRAINING', 'DONE']\n",
      "['RUNNING', 'DONE', 'TRAINING']\n",
      "['RUNNING', 'DONE', 'RUNNING']\n",
      "['RUNNING', 'DONE', 'DONE']\n",
      "['TRAINING', 'TRAINING', 'DONE']\n",
      "['RUNNING', 'DONE', 'TRAINING']\n",
      "['DONE', 'DONE', 'RUNNING']\n",
      "['RUNNING', 'DONE', 'RUNNING']\n",
      "['RUNNING', 'TRAINING', 'DONE']\n",
      "['DONE', 'RUNNING', 'DONE']\n",
      "['RUNNING', 'DONE', 'RUNNING']\n",
      "['TRAINING', 'RUNNING', 'RUNNING']\n",
      "['RUNNING', 'RUNNING', 'DONE']\n",
      "['DONE', 'DONE', 'RUNNING']\n",
      "['DONE', 'DONE', 'TRAINING']\n",
      "['DONE', 'DONE', 'DONE']\n"
     ]
    }
   ],
   "source": [
    "# check their status\n",
    "while True:\n",
    "    # Fetch the states of all its workers\n",
    "    states = ray.get(sup.state.remote())\n",
    "    print(states)\n",
    "    # check if all are DONE\n",
    "    result = all('DONE' == e for e in states)\n",
    "    if result:\n",
    "        # Note: Actor processes will be terminated automatically when the initial actor handle goes out of scope in Python. \n",
    "        # If we create an actor with actor_handle = ActorClass.remote(), then when actor_handle goes out of scope and is destructed, \n",
    "        # the actor process will be terminated. Note that this only applies to the original actor handle created for the actor \n",
    "        # and not to subsequent actor handles created by passing the actor handle to other tasks.\n",
    "        \n",
    "        # kill supervisors all worker manually, only for illustrtation and demo\n",
    "        sup.terminate.remote()\n",
    "\n",
    "        # kill the supervisor manually, only for illustration and demo\n",
    "        ray.kill(sup)\n",
    "        break"
   ]
  },
  {
   "cell_type": "code",
   "execution_count": 16,
   "metadata": {},
   "outputs": [],
   "source": [
    "shutdown_ray_cluster()"
   ]
  },
  {
   "cell_type": "markdown",
   "metadata": {},
   "source": [
    "The next lesson, [Ray Internals](03-Ray-Internals.ipynb), explores the architecture of Ray, task scheduling, the Object Store, etc."
   ]
  }
 ],
 "metadata": {
  "kernelspec": {
   "display_name": "Python 3 (ipykernel)",
   "language": "python",
   "name": "python3"
  },
  "language_info": {
   "codemirror_mode": {
    "name": "ipython",
    "version": 3
   },
   "file_extension": ".py",
   "mimetype": "text/x-python",
   "name": "python",
   "nbconvert_exporter": "python",
   "pygments_lexer": "ipython3",
   "version": "3.8.12"
  },
  "toc": {
   "base_numbering": 1,
   "nav_menu": {},
   "number_sections": false,
   "sideBar": true,
   "skip_h1_title": false,
   "title_cell": "Table of Contents",
   "title_sidebar": "Contents",
   "toc_cell": false,
   "toc_position": {
    "height": "calc(100% - 180px)",
    "left": "10px",
    "top": "150px",
    "width": "382.391px"
   },
   "toc_section_display": true,
   "toc_window_display": true
  }
 },
 "nbformat": 4,
 "nbformat_minor": 4
}
