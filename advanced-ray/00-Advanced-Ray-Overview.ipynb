{
 "cells": [
  {
   "cell_type": "markdown",
   "metadata": {},
   "source": [
    "# Advanced Ray - Overview\n",
    "\n",
    "This tutorial picks up where the [Ray Crash Course](../ray-crash-course/00-Ray-Crash-Course-Overview.ipynb) left off. It explores tasks and actors in more detail, including profiling and debugging applications, and it explains Ray's internal architecture.\n",
    "\n",
    "See the instructions in the [README](../README.md) for setting up your environment to use this tutorial.\n",
    "\n",
    "Go [here](../Overview.ipynb) for an overview of all tutorials.\n",
    "\n",
    "> **Tip:** Recall that the [Ray Package Reference](https://docs.ray.io/en/latest/package-ref.html) in the [Ray Docs](https://docs.ray.io/en/latest/) is useful for exploring the API features we'll learn.\n",
    "\n",
    "## Getting Ray Set Up on a Databricks Cluster\n",
    "\n",
    "To get started with this course, please create a cluster with this configuration:\n",
    "\n",
    "- Ray on Databricks currently only supports Single-Access mode clusters\n",
    "- The init functions in this course are set to run with 2 worker nodes and 4 CPUs per node, so select a cluster with at least 2 workers and 4 CPUs available per node.\n",
    "- Ray will be included in the Databricks Machine Learning Runtime (MLR) in Q1 of 2024, but if not using the latest MLR, please install using the Libraries panel, selecting PyPI as the source and installing 'ray[all]'\n",
    "\n",
    "This cluster can be reused for all sections of this course.\n"
   ]
  },
  {
   "cell_type": "markdown",
   "metadata": {},
   "source": [
    "## Advanced Ray Tutorial Guide\n",
    "\n",
    "| #  | Lesson (Notebook)                                         | Description                               |\n",
    "| :- | :-------------------------------------------------------- | :---------------------------------------- |\n",
    "| 00 | [Overview](00-Advanced-Ray-Overview.ipynb)   | A _table of contents_ for this tutorial.  |\n",
    "| 01 | [Ray Tasks Revisited](01-Ray-Tasks-Revisited.ipynb) | More exploration of `ray.wait()` usage patterns, task dependencies and their management, and task profiling techniques. |\n",
    "| 02 | [Ray Actors Revisited](02-Ray-Actors-Revisited.ipynb) | A more in-depth look at actor characteristics and profiling actor performance using the _Ray Dashboard_. |\n",
    "| 03 | [Ray Internals](03-Ray-Internals.ipynb) | Explores the architecture of Ray, task scheduling, the Object Store, etc. |\n",
    "\n",
    "In addition, exercise solutions for this tutorial can be found [here](solutions/Advanced-Ray-Solutions.ipynb)."
   ]
  }
 ],
 "metadata": {
  "kernelspec": {
   "display_name": "Python 3 (ipykernel)",
   "language": "python",
   "name": "python3"
  },
  "language_info": {
   "codemirror_mode": {
    "name": "ipython",
    "version": 3
   },
   "file_extension": ".py",
   "mimetype": "text/x-python",
   "name": "python",
   "nbconvert_exporter": "python",
   "pygments_lexer": "ipython3",
   "version": "3.8.12"
  }
 },
 "nbformat": 4,
 "nbformat_minor": 4
}
