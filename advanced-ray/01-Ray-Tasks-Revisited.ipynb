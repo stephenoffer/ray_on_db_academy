{
 "cells": [
  {
   "cell_type": "markdown",
   "metadata": {},
   "source": [
    "# Ray Tasks Revisited\n",
    "\n",
    "The [Ray Crash Course](../ray-crash-course/00-Ray-Crash-Course-Overview.ipynb) introduced the core concepts of Ray's API and how they parallelize work. Specifically, we learned how to define Ray _tasks_ and _actors_, run them, and retrieve the results. \n",
    "\n",
    "This lesson explores Ray tasks in greater depth, including the following:\n",
    "\n",
    "* How task dependencies are handled automatically by Ray\n",
    "* Usage patterns for `ray.get()` and `ray.wait()`\n",
    "* Specifying limits on the number of invocations and retries on failure\n",
    "* An exploration of task granularity considerations\n",
    "* Profiling tasks"
   ]
  },
  {
   "cell_type": "code",
   "execution_count": 1,
   "metadata": {},
   "outputs": [],
   "source": [
    "import ray, time, os, sys \n",
    "import numpy as np \n",
    "sys.path.append(\"..\")\n",
    "from util.printing import pd, pnd  # convenience methods for printing results."
   ]
  },
  {
   "cell_type": "code",
   "execution_count": 2,
   "metadata": {},
   "outputs": [
    {
     "name": "stderr",
     "output_type": "stream",
     "text": [
      "2022-03-16 15:54:23,385\tINFO services.py:1412 -- View the Ray dashboard at \u001b[1m\u001b[32mhttp://127.0.0.1:8265\u001b[39m\u001b[22m\n"
     ]
    },
    {
     "data": {
      "text/plain": [
       "{'node_ip_address': '127.0.0.1',\n",
       " 'raylet_ip_address': '127.0.0.1',\n",
       " 'redis_address': None,\n",
       " 'object_store_address': '/tmp/ray/session_2022-03-16_15-54-20_987355_57958/sockets/plasma_store',\n",
       " 'raylet_socket_name': '/tmp/ray/session_2022-03-16_15-54-20_987355_57958/sockets/raylet',\n",
       " 'webui_url': '127.0.0.1:8265',\n",
       " 'session_dir': '/tmp/ray/session_2022-03-16_15-54-20_987355_57958',\n",
       " 'metrics_export_port': 55497,\n",
       " 'gcs_address': '127.0.0.1:60165',\n",
       " 'address': '127.0.0.1:60165',\n",
       " 'node_id': '15121809f7d670bdd9da8defb356391ee798d55d0f6ec15625582a0d'}"
      ]
     },
     "execution_count": 2,
     "metadata": {},
     "output_type": "execute_result"
    }
   ],
   "source": [
    "from ray.util.spark import setup_ray_cluster, shutdown_ray_cluster\n",
    "\n",
    "setup_ray_cluster(\n",
    "  num_worker_nodes=2,\n",
    "  num_cpus_per_node=4,\n",
    "  collect_log_to_path=\"/dbfs/path/to/ray_collected_logs\"\n",
    ")\n",
    "ray.init()"
   ]
  },
  {
   "cell_type": "markdown",
   "metadata": {},
   "source": [
    "The Ray Dashboard URL is printed above and also part of the output dictionary item `webui_url`\n",
    "\n",
    "(When using the Anyscale platform, use the URL provided by your instructor to access the Ray Dashboard.)"
   ]
  },
  {
   "cell_type": "markdown",
   "metadata": {},
   "source": [
    "## Ray Task Dependencies\n",
    "\n",
    "Let's define a few remote tasks, which will have _dependency_ relationships. We'll learn how Ray handles these dependent, asynchronous computations.\n",
    "\n",
    "One task will return a random NumPy array of some size `n` and the other task will add two such arrays. We'll also add a sleep time, one tenth the size of `n` to simulate expensive computation.\n",
    "\n",
    "> **Note:** Dependencies and how Ray implements handling of them are explored in depth in the [03: Ray Internals](03-Ray-Internals.ipynb) lesson. "
   ]
  },
  {
   "cell_type": "code",
   "execution_count": 3,
   "metadata": {},
   "outputs": [],
   "source": [
    "@ray.remote\n",
    "def make_array(n):\n",
    "    time.sleep(n/10.0)\n",
    "    return np.random.standard_normal(n)"
   ]
  },
  {
   "cell_type": "markdown",
   "metadata": {},
   "source": [
    "Now define a task that can add two NumPy arrays together. The arrays need to be the same size, but we'll ignore any checking for this requirement."
   ]
  },
  {
   "cell_type": "code",
   "execution_count": 4,
   "metadata": {},
   "outputs": [],
   "source": [
    "@ray.remote\n",
    "def add_arrays(a1, a2):\n",
    "    time.sleep(a1.size/10.0)\n",
    "    return np.add(a1, a2)"
   ]
  },
  {
   "cell_type": "markdown",
   "metadata": {},
   "source": [
    "Now lets use them!"
   ]
  },
  {
   "cell_type": "code",
   "execution_count": 5,
   "metadata": {},
   "outputs": [
    {
     "name": "stdout",
     "output_type": "stream",
     "text": [
      "[ 1.43108382  0.70087318 -1.20089303  0.57864184 -0.26180632  1.67105153\n",
      "  2.35791376  0.83222052  0.54114676 -2.19455132 -0.72782443  2.07478372\n",
      "  2.86786932  0.21751107 -1.33765011 -2.18729223  1.95132309  2.28626872\n",
      " -0.69875823  0.69579854]\n",
      "Total time: duration:  4.141 seconds\n"
     ]
    }
   ],
   "source": [
    "start = time.time()\n",
    "ref1 = make_array.remote(20)\n",
    "ref2 = make_array.remote(20)\n",
    "ref3 = add_arrays.remote(ref1, ref2)\n",
    "print(ray.get(ref3))\n",
    "pd(time.time() - start, prefix=\"Total time:\")"
   ]
  },
  {
   "cell_type": "markdown",
   "metadata": {},
   "source": [
    "Something subtle and \"magical\" happened here; when we called `add_arrays`, we didn't need to call `ray.get()` first for `ref1` and `ref2`, since `add_arrays` expects NumPy arrays. Because `add_arrays` is a Ray task, Ray automatically does the extraction for us, so we can write code that looks more natural and Pythonic.\n",
    "\n",
    "Furthermore, note that the `add_arrays` task effectively depends on the outputs of the two `make_array` tasks. Ray won't run `add_arrays` until the other tasks are finished. Hence, Ray automatically handles task dependencies for us.\n",
    "\n",
    "This is why the elapsed time is about 4 seconds. We used a size of 20, so we slept 2 seconds in each call to `make_array`, but those happened in parallel, _followed_ by a second sleep of 2 seconds in `add_arrays`."
   ]
  },
  {
   "cell_type": "markdown",
   "metadata": {},
   "source": [
    "Even though three task invocations occurred, we only used one call to `ray.get()`, when we actually needed the final results. Eliminating unnecessary `ray.get()` calls helps avoid forcing tasks to become synchronous when they could be asynchronous. So, keep these two key points in mind:\n",
    "\n",
    "* _Don't ask for results you don't need._\n",
    "* _Don't ask for the results you need until you really need them._\n",
    "\n",
    "We don't need to see the objects for `id1` and `id2`. We only need the final array for `id3`."
   ]
  },
  {
   "cell_type": "markdown",
   "metadata": {},
   "source": [
    "## Using ray.wait() with ray.get()\n",
    "\n",
    "Here is an idiomatic way to use `ray.get()`, where we fire all five asynchronous tasks at once, then ask for all the results at once with `ray.get()`:"
   ]
  },
  {
   "cell_type": "code",
   "execution_count": 6,
   "metadata": {},
   "outputs": [
    {
     "name": "stdout",
     "output_type": "stream",
     "text": [
      "0: []\n",
      "10: [-4.07638296 -1.95163267 -0.00880249 -0.29232239  2.42449107  4.19294359\n",
      " -0.0503383  -3.55753786  1.89963487 -4.5199296 ]\n",
      "20: [-1.15085882  1.77579832 -0.01225805 -0.309953    0.21715217 -1.89030721\n",
      "  4.78175552  1.88517307 -0.18699982  0.29107438 -5.98558067 -0.08797277\n",
      " -2.66273081  0.58718528  1.50876663  0.40536929 -2.68862281 -0.91197708\n",
      " -1.44423352 -2.39514431]\n",
      "30: [ 2.56039301 -1.6346322  -0.60871896  1.16193879 -5.70744411  0.19742551\n",
      "  0.37885034 -1.5600288  -2.45400092  0.48869232  2.2066744   1.03782254\n",
      "  0.44751701  0.96727377  0.94322784  0.24640674  2.22442813 -0.85789955\n",
      " -0.95187082  0.09662156 -2.30043352  0.42470415  2.4074558   2.69538886\n",
      "  1.83667622 -1.73273107  1.44737938  0.0259227  -0.93103566  2.6686603 ]\n",
      "40: [ 0.90526841  0.08500723 -4.4759343  -1.69614532  4.00903602  1.70152613\n",
      " -3.66922862  0.88682751  1.78039434 -0.21732936 -2.21481583 -0.07879783\n",
      " -0.10482116  0.42625183  1.93473718 -0.54609273 -3.21441822 -0.08517154\n",
      "  1.14747553  2.98695593  0.6425796   1.58338575 -0.87433595  1.12774532\n",
      "  1.25704648 -0.53840788 -1.02681277  2.85560465 -1.9057081   3.09302813\n",
      "  1.65737348  1.73555522 -0.35233106  3.54423379  2.54128671  3.36910015\n",
      " -1.60969587 -2.49056824 -0.99489398  4.61233962]\n",
      "Total time: duration:  8.084 seconds\n"
     ]
    }
   ],
   "source": [
    "start = time.time()\n",
    "\n",
    "# Comprehension list: five NumPy object references or futures created\n",
    "array_refs = [make_array.remote(n*10) for n in range(5)]\n",
    "\n",
    "# Comprehension list: object references or futures of the result of addition\n",
    "added_array_refs = [add_arrays.remote(ref, ref) for ref in array_refs]\n",
    "\n",
    "# Iterate o er the list of object references or futures\n",
    "for array in ray.get(added_array_refs):\n",
    "    print(f'{array.size}: {array}')\n",
    "pd(time.time() - start, prefix=\"Total time:\")"
   ]
  },
  {
   "cell_type": "markdown",
   "metadata": {},
   "source": [
    "This takes about eight seconds, four seconds for the longest invocation invocation of `make_array`, `make_array(4)`  , and four seconds with longest invocation of `add_arrays`, when passed the results of `make_array(4)`. \n",
    "\n",
    "We did the right thing inside each list comprehension. We started the asynchronous tasks all at once and allowed Ray to handle the dependencies. Then we waited on one `ray.get()` call for all the output. \n",
    "\n",
    "However, what you see is no output and then everything is suddenly printed at once after eight seconds."
   ]
  },
  {
   "cell_type": "markdown",
   "metadata": {},
   "source": [
    "There are two fundamental problems with the way we've used `ray.get()` so far:\n",
    "\n",
    "1. There's no timeout, in case something gets \"hung\".\n",
    "2. We have to wait for _all_ the objects to be available before `ray.get()` returns.\n",
    "\n",
    "The ability to specify a timeout is essential in production code as a defensive measure. Many potential problems could happen in a real production system, any one of which could cause the task we're waiting on to take an abnormally long time to complete or never complete. Our application would be deadlocked waiting on this task. Hence, it's **strongly recommended** in production software to always use timeouts on blocking calls, so that the application can attempt some sort of recovery in situations like this, or at least report the error and \"degrade gracefully\".\n",
    "\n",
    "Actually, there _is_ a `timeout=<value>` option you can pass to `ray.get()` ([documentation](https://ray.readthedocs.io/en/latest/package-ref.html#ray.get)), but it will most likely be removed in a future release of Ray. Why remove it if timeouts are important? This change will simplify the implementation of `ray.get()` and encourage the use of `ray.wait()` for waiting ([documentation](https://ray.readthedocs.io/en/latest/package-ref.html#ray.wait)) instead, followed by using `ray.get()` to retrieve values for tasks that `ray.wait()` tells us are finished. \n",
    "\n",
    "Using `ray.wait()` is also the way to fix the second problem with using `ray.get()` by itself, that we have to wait for all tasks to finish before we get any values back. Some of those tasks finish more quickly in our contrived example. We would like to process those results as soon as they are available, even while others continue to run. We'll use `ray.wait()` for this purpose.\n",
    "\n",
    "Therefore, while `ray.get()` is simple and convenient, for _production code_, we recommend using `ray.wait()`, **with** timeouts, for blocking on running tasks. Then use `ray.get()` to retrieve values of completed tasks. \n",
    "\n",
    "Here is the previous example rewritten to use `ray.wait()`:"
   ]
  },
  {
   "cell_type": "code",
   "execution_count": 7,
   "metadata": {},
   "outputs": [
    {
     "name": "stdout",
     "output_type": "stream",
     "text": [
      "Returned   1 completed tasks. (elapsed time:  0.004)\n",
      "0: []\n",
      "Returned   1 completed tasks. (elapsed time:  2.009)\n",
      "10: [ 1.9431695  -0.73601346  2.91265181  1.26958173 -0.31414387 -0.58221856\n",
      " -2.04464543  2.59826408  2.13087564 -2.56688933]\n",
      "Returned   1 completed tasks. (elapsed time:  4.014)\n",
      "20: [ 2.88432484 -3.11871942 -0.04592315  1.33617888 -2.8067684  -0.59656667\n",
      " -1.74968928 -0.97351565  0.0107425  -0.32481627 -0.42829614  0.68200873\n",
      "  1.07150396  1.86634426 -0.61638403 -1.12001991  2.18839802  2.52251977\n",
      "  0.13937517  1.02194083]\n",
      "Returned   1 completed tasks. (elapsed time:  6.015)\n",
      "30: [ 4.54483047  0.6518823   1.03674642  1.94455729 -1.67532543 -1.07640136\n",
      " -1.58205622 -1.23547825 -1.35332424  3.60820431 -2.08436084 -2.73765516\n",
      " -0.93300154  1.03793909 -0.01560521 -0.00754232  2.29358795 -0.02512471\n",
      "  1.58556402 -0.40110198  0.27547143 -1.45850163  0.73047698  2.5528473\n",
      " -1.5648741   1.79714557  1.34442352 -1.78479468 -0.70858361 -1.64989786]\n",
      "Returned   1 completed tasks. (elapsed time:  8.009)\n",
      "40: [ 1.62425795  0.96134808 -1.25424606  3.64535671  1.62311305 -3.55506561\n",
      "  1.67542426  0.04813915  4.01137974  1.4018988   2.84688895 -2.21303959\n",
      " -0.67131431 -3.21804132  1.623781    4.39636134 -2.46887221  0.22690579\n",
      " -0.28975293  1.01059326  0.69023423  0.64658646 -0.56559878  0.01134644\n",
      " -2.48224752 -3.04916684 -1.79149316 -2.5665275  -1.47326368  0.5620359\n",
      " -1.14454205 -0.47215295 -1.20099118  0.14418814  2.38725811 -2.91287316\n",
      " -0.97164188 -2.62992992 -1.5129564  -2.05891994]\n",
      "\n",
      "all arrays: [array([], dtype=float64), array([ 1.9431695 , -0.73601346,  2.91265181,  1.26958173, -0.31414387,\n",
      "       -0.58221856, -2.04464543,  2.59826408,  2.13087564, -2.56688933]), array([ 2.88432484, -3.11871942, -0.04592315,  1.33617888, -2.8067684 ,\n",
      "       -0.59656667, -1.74968928, -0.97351565,  0.0107425 , -0.32481627,\n",
      "       -0.42829614,  0.68200873,  1.07150396,  1.86634426, -0.61638403,\n",
      "       -1.12001991,  2.18839802,  2.52251977,  0.13937517,  1.02194083]), array([ 4.54483047,  0.6518823 ,  1.03674642,  1.94455729, -1.67532543,\n",
      "       -1.07640136, -1.58205622, -1.23547825, -1.35332424,  3.60820431,\n",
      "       -2.08436084, -2.73765516, -0.93300154,  1.03793909, -0.01560521,\n",
      "       -0.00754232,  2.29358795, -0.02512471,  1.58556402, -0.40110198,\n",
      "        0.27547143, -1.45850163,  0.73047698,  2.5528473 , -1.5648741 ,\n",
      "        1.79714557,  1.34442352, -1.78479468, -0.70858361, -1.64989786]), array([ 1.62425795,  0.96134808, -1.25424606,  3.64535671,  1.62311305,\n",
      "       -3.55506561,  1.67542426,  0.04813915,  4.01137974,  1.4018988 ,\n",
      "        2.84688895, -2.21303959, -0.67131431, -3.21804132,  1.623781  ,\n",
      "        4.39636134, -2.46887221,  0.22690579, -0.28975293,  1.01059326,\n",
      "        0.69023423,  0.64658646, -0.56559878,  0.01134644, -2.48224752,\n",
      "       -3.04916684, -1.79149316, -2.5665275 , -1.47326368,  0.5620359 ,\n",
      "       -1.14454205, -0.47215295, -1.20099118,  0.14418814,  2.38725811,\n",
      "       -2.91287316, -0.97164188, -2.62992992, -1.5129564 , -2.05891994])]\n",
      "Total time: duration:  8.012 seconds\n"
     ]
    }
   ],
   "source": [
    "start = time.time()\n",
    "array_refs = [make_array.remote(n*10) for n in range(5)]\n",
    "added_array_refs = [add_arrays.remote(ref, ref) for ref in array_refs]\n",
    "\n",
    "arrays = []\n",
    "waiting_refs = list(added_array_refs)  # Assign a working list to the full list of refs\n",
    "while len(waiting_refs) > 0:           # Loop until all tasks have completed\n",
    "    # Call ray.wait with:\n",
    "    #   1. the list of refs we're still waiting to complete,\n",
    "    #   2. tell it to return immediately as soon as one of them completes,\n",
    "    #   3. tell it wait up to 10 seconds before timing out.\n",
    "    ready_refs, remaining_refs = ray.wait(waiting_refs, num_returns=1, timeout=10.0)\n",
    "    print('Returned {:3d} completed tasks. (elapsed time: {:6.3f})'.format(len(ready_refs), time.time() - start))\n",
    "    new_arrays = ray.get(ready_refs)\n",
    "    arrays.extend(new_arrays)\n",
    "    for array in new_arrays:\n",
    "        print(f'{array.size}: {array}')\n",
    "    waiting_refs = remaining_refs  # Reset this list; don't include the completed refs in the list again!\n",
    "    \n",
    "print(f\"\\nall arrays: {arrays}\")\n",
    "pd(time.time() - start, prefix=\"Total time:\")"
   ]
  },
  {
   "cell_type": "markdown",
   "metadata": {},
   "source": [
    "Now it still takes about 8 seconds to complete, 4 seconds for the longest invocation of `make_array` and 4 seconds for the invocation of `add_arrays`, but since the others complete more quickly, we see their results as soon as they become available, at 0, 2, 4, and 6 second intervals.\n",
    "\n",
    "> **Warning:** For each call to `ray.wait()` in a loop like this, it's important to remove the refs that have completed. Otherwise, `ray.wait()` will return immediately with the same list containg the first completed item, over and over again; you'll loop forever!! Resetting the list is easy, since the second list returned by `ray.wait()` is the rest of the items that are still running. So, that's what we use.\n",
    "\n",
    "Now let's try it with `num_returns = 2`:"
   ]
  },
  {
   "cell_type": "code",
   "execution_count": 8,
   "metadata": {},
   "outputs": [
    {
     "name": "stdout",
     "output_type": "stream",
     "text": [
      "Returned   2 completed tasks. (elapsed time:  2.013)\n",
      "0: []\n",
      "10: [-2.94487463 -0.20515211 -1.21721959 -2.54505005  2.53539694 -2.89842961\n",
      " -2.32593868  0.4861679  -2.57712589 -1.74041328]\n",
      "Returned   2 completed tasks. (elapsed time:  6.014)\n",
      "20: [ 0.15756339  0.70655518  0.43356913  0.64729627 -0.78901818 -2.0719179\n",
      "  0.9722761   0.4325182  -2.26739337 -0.08784976  0.17736519 -3.39512875\n",
      "  1.5598177  -0.83083243 -3.92696585 -2.60103557 -2.56880192  0.5517638\n",
      "  0.99855315 -2.16416783]\n",
      "30: [-0.07768504 -0.70268598  0.92056113 -1.71179513 -1.318743   -5.69315124\n",
      " -0.037428   -0.85751717  3.70692497 -1.67805509  0.0671539   2.6207001\n",
      "  1.23987118  0.92102111  1.77791423  2.30275174  2.73170802 -2.82441125\n",
      " -1.81794507 -2.28215284  2.05025238 -2.46189908 -0.11176304 -1.16338214\n",
      " -2.80320196  0.91222451 -2.45406968 -0.97807619 -2.76382338  1.9662463 ]\n",
      "Returned   1 completed tasks. (elapsed time:  8.011)\n",
      "40: [ 1.176072    1.19516666 -1.41519632  2.40864955  0.26778945  0.69992192\n",
      "  1.4436109   0.92952915  1.25083144  2.4151384   1.69659376  0.01761151\n",
      " -0.82076738  4.68853508 -2.10780073  2.85552424 -1.50781878  4.97834614\n",
      "  1.57238652  1.8517757  -3.15915266  3.08577327  1.46855653 -2.74056794\n",
      "  2.27394944  0.10460799  1.80177666 -2.71827048  0.60325526 -0.4712327\n",
      " -0.53850428  1.06416708  0.33676107  0.3396376  -1.99663821  0.66267936\n",
      " -1.61316342 -1.74278515 -0.19526371  2.35191851]\n",
      "\n",
      "all arrays: [array([], dtype=float64), array([-2.94487463, -0.20515211, -1.21721959, -2.54505005,  2.53539694,\n",
      "       -2.89842961, -2.32593868,  0.4861679 , -2.57712589, -1.74041328]), array([ 0.15756339,  0.70655518,  0.43356913,  0.64729627, -0.78901818,\n",
      "       -2.0719179 ,  0.9722761 ,  0.4325182 , -2.26739337, -0.08784976,\n",
      "        0.17736519, -3.39512875,  1.5598177 , -0.83083243, -3.92696585,\n",
      "       -2.60103557, -2.56880192,  0.5517638 ,  0.99855315, -2.16416783]), array([-0.07768504, -0.70268598,  0.92056113, -1.71179513, -1.318743  ,\n",
      "       -5.69315124, -0.037428  , -0.85751717,  3.70692497, -1.67805509,\n",
      "        0.0671539 ,  2.6207001 ,  1.23987118,  0.92102111,  1.77791423,\n",
      "        2.30275174,  2.73170802, -2.82441125, -1.81794507, -2.28215284,\n",
      "        2.05025238, -2.46189908, -0.11176304, -1.16338214, -2.80320196,\n",
      "        0.91222451, -2.45406968, -0.97807619, -2.76382338,  1.9662463 ]), array([ 1.176072  ,  1.19516666, -1.41519632,  2.40864955,  0.26778945,\n",
      "        0.69992192,  1.4436109 ,  0.92952915,  1.25083144,  2.4151384 ,\n",
      "        1.69659376,  0.01761151, -0.82076738,  4.68853508, -2.10780073,\n",
      "        2.85552424, -1.50781878,  4.97834614,  1.57238652,  1.8517757 ,\n",
      "       -3.15915266,  3.08577327,  1.46855653, -2.74056794,  2.27394944,\n",
      "        0.10460799,  1.80177666, -2.71827048,  0.60325526, -0.4712327 ,\n",
      "       -0.53850428,  1.06416708,  0.33676107,  0.3396376 , -1.99663821,\n",
      "        0.66267936, -1.61316342, -1.74278515, -0.19526371,  2.35191851])]\n",
      "Total time: duration:  8.014 seconds\n"
     ]
    }
   ],
   "source": [
    "start = time.time()\n",
    "array_refs = [make_array.remote(n*10) for n in range(5)]\n",
    "added_array_refs = [add_arrays.remote(ref, ref) for ref in array_refs]\n",
    "\n",
    "arrays = []\n",
    "waiting_refs = list(added_array_refs)  # Assign a working list to the full list of refs\n",
    "while len(waiting_refs) > 0:           # Loop until all tasks have completed\n",
    "    # Call ray.wait with:\n",
    "    #   1. the list of refs we're still waiting to complete,\n",
    "    #   2. tell it to return immediately as soon as TWO of them complete,\n",
    "    #   3. tell it wait up to 10 seconds before timing out.\n",
    "    return_n = 2 if len(waiting_refs) > 1 else 1\n",
    "    ready_refs, remaining_refs = ray.wait(waiting_refs, num_returns=return_n, timeout=10.0)\n",
    "    print('Returned {:3d} completed tasks. (elapsed time: {:6.3f})'.format(len(ready_refs), time.time() - start))\n",
    "    new_arrays = ray.get(ready_refs)\n",
    "    arrays.extend(new_arrays)\n",
    "    for array in new_arrays:\n",
    "        print(f'{array.size}: {array}')\n",
    "    waiting_refs = remaining_refs  # Reset this list; don't include the completed refs in the list again!\n",
    "    \n",
    "print(f\"\\nall arrays: {arrays}\")\n",
    "pd(time.time() - start, prefix=\"Total time:\")"
   ]
  },
  {
   "cell_type": "markdown",
   "metadata": {},
   "source": [
    "Now we get two at a time output. Note that we don't actually pass `num_returns=2` every time. If you ask for more items than the length of the input list, you get an error. So, we compute `num_returns`, using `2` except when there's only one task to wait on, in which case we use `1`. So, in fact, the output for `40` was a single task result, because we started with `5` and processed two at a time."
   ]
  },
  {
   "cell_type": "markdown",
   "metadata": {},
   "source": [
    " For a longer discussion on `ray.wait()`, see [this blog post](https://medium.com/distributed-computing-with-ray/ray-tips-and-tricks-part-i-ray-wait-9ed7a0b9836d)."
   ]
  },
  {
   "cell_type": "markdown",
   "metadata": {},
   "source": [
    "## Exercise 1\n",
    "\n",
    "The following cell is identical to the last one. Modify it to use a timeout of `2.5` seconds, shorter than our longest tasks. What happens now? Try using other times.\n",
    "\n",
    "See the [solutions notebook](solutions/Advanced-Ray-Solutions.ipynb) for a discussion of this exercise and the subsequent exercises."
   ]
  },
  {
   "cell_type": "code",
   "execution_count": null,
   "metadata": {},
   "outputs": [],
   "source": [
    "start = time.time()\n",
    "array_refs = [make_array.remote(n*10) for n in range(5)]\n",
    "added_array_refs = [add_arrays.remote(ref, ref) for ref in array_refs]\n",
    "\n",
    "arrays = []\n",
    "waiting_refs = list(added_array_refs)  # Assign a working list to the full list of refs\n",
    "while len(waiting_refs) > 0:           # Loop until all tasks have completed\n",
    "    # Call ray.wait with:\n",
    "    #   1. the list of refs we're still waiting to complete,\n",
    "    #   2. tell it to return immediately as soon as TWO of them complete,\n",
    "    #   3. tell it wait up to 10 seconds before timing out.\n",
    "    return_n = 2 if len(waiting_refs) > 1 else 1\n",
    "    ready_refs, remaining_refs = ray.wait(waiting_refs, num_returns=return_n, timeout=10.0)\n",
    "    print('Returned {:3d} completed tasks. (elapsed time: {:6.3f})'.format(len(ready_refs), time.time() - start))\n",
    "    new_arrays = ray.get(ready_refs)\n",
    "    arrays.extend(new_arrays)\n",
    "    for array in new_arrays:\n",
    "        print(f'{array.size}: {array}')\n",
    "    waiting_refs = remaining_refs  # Reset this list; don't include the completed refs in the list again!\n",
    "    \n",
    "print(f\"\\nall arrays: {arrays}\")\n",
    "pd(time.time() - start, prefix=\"Total time:\")"
   ]
  },
  {
   "cell_type": "markdown",
   "metadata": {},
   "source": [
    "In conclusion:\n",
    "\n",
    "> **Tips:**\n",
    ">\n",
    "> 1. Use `ray.wait()` with a timeout to wait for one or more running tasks. Then use `ray.get()` to retrieve the values for the finished tasks.\n",
    "> 2. When looping over calls to `ray.wait()` with a list of object refs for running tasks, remove the previously-completed and retrieved objects from the list.\n",
    "> 3. Don't ask for results you don't need.\n",
    "> 4. Don't ask for the results you need until you really need them."
   ]
  },
  {
   "cell_type": "markdown",
   "metadata": {},
   "source": [
    "## Exercise 3\n",
    "\n",
    "Let's practice converting a slow loop to Ray, including using `ray.wait()`. Change the function to be a Ray task. Change the invocations to use the `ray.wait()` idiom. You can just use the default values for `num_returns` and `timeout` if you want. The second cell uses `assert` statements to check your work."
   ]
  },
  {
   "cell_type": "code",
   "execution_count": null,
   "metadata": {},
   "outputs": [],
   "source": [
    "def slow_square(n):\n",
    "    time.sleep(n)\n",
    "    return n*n\n",
    "\n",
    "start = time.time()\n",
    "squares = [slow_square(n) for n in range(4)]\n",
    "for square in squares:\n",
    "    print (f'finished: {square}')\n",
    "duration = time.time() - start"
   ]
  },
  {
   "cell_type": "code",
   "execution_count": null,
   "metadata": {},
   "outputs": [],
   "source": [
    "assert squares == [0, 1, 4, 9], f'Did you use ray.get() to retrieve the values? squares = {squares}'\n",
    "assert duration < 4.1, f'Did you use Ray to parallelize the work? duration = {duration}' "
   ]
  },
  {
   "cell_type": "markdown",
   "metadata": {},
   "source": [
    "## Limiting Task Invocations and Retries on Failure\n",
    "\n",
    "> **Note:** This feature may change in a future version of Ray. See the latest details in the [Ray documentation](https://docs.ray.io/en/latest/package-ref.html#ray.remote). \n",
    "\n",
    "Two options you can pass to `ray.remote` when defining a task affect how often it can be invoked and retrying on failure:\n",
    "\n",
    "* `max_calls`: This specifies the maximum number of times that a given worker can execute the given remote function before it must exit. This can be used to address memory leaks in third-party libraries or to reclaim resources that cannot easily be released, e.g., GPU memory that was acquired by TensorFlow. By default this is infinite.\n",
    "* `max_retries`: This specifies the maximum number of times that the remote function should be rerun when the worker process executing it crashes unexpectedly. The minimum valid value is 0, the default is 4, and a value of -1 indicates infinite retries are allowed.\n",
    "\n",
    "Example:\n",
    "\n",
    "```python\n",
    "@ray.remote(max_calls=10000, max_retries=10)\n",
    "def foo():\n",
    "    pass\n",
    "```\n",
    "\n",
    "See the [ray.remote()](https://docs.ray.io/en/latest/package-ref.html#ray.remote) documentation for all the keyword arguments supported."
   ]
  },
  {
   "cell_type": "markdown",
   "metadata": {},
   "source": [
    "### Overriding with config()\n",
    "\n",
    "Remote task and actor objects returned by `@ray.remote` can also be dynamically modified with the same arguments supported by `ray.remote()` using `options()` as in the following examples:\n",
    "\n",
    "```python\n",
    "@ray.remote(num_gpus=1, max_calls=1, num_return_vals=2)\n",
    "def f():\n",
    "    return 1, 2\n",
    "g = f.options(num_gpus=2, max_calls=None)\n",
    "```"
   ]
  },
  {
   "cell_type": "markdown",
   "metadata": {},
   "source": [
    "## What Is the Optimal Task Granularity\n",
    "\n",
    "How fine-grained should Ray tasks be? There's no fixed rule of thumb, but Ray clearly adds some overhead for task management and using object stores in a cluster. Therefore, it makes sense that tasks which are too small will perform poorly.\n",
    "\n",
    "We'll explore this topic over several more lessons, but for now, let's get a sense of the overhead while running in your setup.\n",
    "\n",
    "We'll continue to use NumPy arrays to create \"load\", but remove the `sleep` calls:"
   ]
  },
  {
   "cell_type": "code",
   "execution_count": 9,
   "metadata": {},
   "outputs": [],
   "source": [
    "def noop(n):\n",
    "    return n\n",
    "\n",
    "def local_make_array(n):\n",
    "    return np.random.standard_normal(n)\n",
    "\n",
    "@ray.remote\n",
    "def remote_make_array(n):\n",
    "    return local_make_array(n)"
   ]
  },
  {
   "cell_type": "markdown",
   "metadata": {},
   "source": [
    "Let's do `trials` runs for each experiment, to average out background noise:"
   ]
  },
  {
   "cell_type": "code",
   "execution_count": 10,
   "metadata": {},
   "outputs": [],
   "source": [
    "trials=100"
   ]
  },
  {
   "cell_type": "markdown",
   "metadata": {},
   "source": [
    "First, let's use `noop` to baseline local function calls. Note that we call `print` for the duration, rathern than `pd`, because the overhead is so low the `pd` formatting will print `0.000`:"
   ]
  },
  {
   "cell_type": "code",
   "execution_count": 11,
   "metadata": {},
   "outputs": [
    {
     "name": "stdout",
     "output_type": "stream",
     "text": [
      "0.00010609626770019531 seconds\n"
     ]
    }
   ],
   "source": [
    "start = time.time()\n",
    "[noop(t) for t in range(trials)]\n",
    "print(f'{time.time() - start} seconds')"
   ]
  },
  {
   "cell_type": "markdown",
   "metadata": {},
   "source": [
    "Let's try the same run with `local_make_array(n)` for `n = 100000`:"
   ]
  },
  {
   "cell_type": "code",
   "execution_count": 12,
   "metadata": {},
   "outputs": [
    {
     "name": "stdout",
     "output_type": "stream",
     "text": [
      "0.2779512405395508 seconds\n"
     ]
    }
   ],
   "source": [
    "start = time.time()\n",
    "[local_make_array(100000) for _ in range(trials)]\n",
    "print(f'{time.time() - start} seconds')"
   ]
  },
  {
   "cell_type": "markdown",
   "metadata": {},
   "source": [
    "So, we can safely ignore the \"noop\" overhead for now. For completeness, here's what happens with remote execution:"
   ]
  },
  {
   "cell_type": "code",
   "execution_count": 13,
   "metadata": {},
   "outputs": [
    {
     "name": "stdout",
     "output_type": "stream",
     "text": [
      "0.1783127784729004 seconds\n"
     ]
    }
   ],
   "source": [
    "start = time.time()\n",
    "refs = [remote_make_array.remote(100000) for _ in range(trials)]\n",
    "ray.get(refs)\n",
    "print(f'{time.time() - start} seconds')"
   ]
  },
  {
   "cell_type": "markdown",
   "metadata": {},
   "source": [
    "For arrays of 100000, using Ray is faster (at least on this test machine). The benefits of parallel computation, rather than synchronous, already outweight the Ray overhead."
   ]
  },
  {
   "cell_type": "markdown",
   "metadata": {},
   "source": [
    "## Exercise 4\n",
    "\n",
    "1. Try incrementing size of n to 2n\n",
    "2. Do you see a marked difference between the local vs remote times?\n",
    "3. For the brave, try using `mathplotlib` to plot it."
   ]
  },
  {
   "cell_type": "markdown",
   "metadata": {},
   "source": [
    "## Profiling Tasks with ray.timeline()\n",
    "\n",
    "Sometimes you need to debug performance problems in Ray tasks. Calling `ray.timeline(file)` ([documentation](https://ray.readthedocs.io/en/latest/package-ref.html#ray.timeline)) captures profiling information for subsequent task execution to the specified file. Afterwards, you can view the data in a Chrome web browser. The format used is unique to Chrome, so Chrome has be used to view the data.\n",
    "\n",
    "Let's try it with our `make_array` and `add_arrays` methods in the following code. First some potential cleanup:"
   ]
  },
  {
   "cell_type": "code",
   "execution_count": 14,
   "metadata": {},
   "outputs": [],
   "source": [
    "timeline_file = 'task-timeline.txt' # Will be found in the same directory as this notebook.\n",
    "if os.path.isfile(timeline_file):   # Delete old one, if an old one exists already.\n",
    "    os.remove(timeline_file)"
   ]
  },
  {
   "cell_type": "code",
   "execution_count": 15,
   "metadata": {},
   "outputs": [
    {
     "name": "stdout",
     "output_type": "stream",
     "text": [
      "0: []\n",
      "10: [ 0.97332529  1.74874549  2.61013597 -0.63826469  0.5627928  -0.14394584\n",
      " -0.80192058  0.96795231 -1.01147608 -0.19958733]\n",
      "20: [ 0.65613874 -1.80805681 -1.619655   -2.4529704   0.15821344  0.53527084\n",
      " -1.24334158  2.21637178  0.46443527 -0.2710335   0.27033077 -1.49718947\n",
      "  2.80627222  0.7553748  -0.97830888  1.83637038  0.71262775  0.80207359\n",
      "  1.02618509  0.57165852]\n",
      "30: [-1.97400065e+00  2.24373538e+00  4.76793568e-01  1.44951452e+00\n",
      "  2.91712408e+00 -9.72138963e-02 -1.70001976e+00 -7.68350192e-01\n",
      " -7.85106961e-01 -2.52866228e+00 -1.36515726e-03 -2.26545083e+00\n",
      "  9.20154554e-01  1.49150340e+00 -5.54725378e-01 -2.21724933e+00\n",
      "  1.11076770e+00  1.96036959e+00 -1.81648604e+00 -2.43074034e-01\n",
      " -1.01406263e+00  2.92731725e+00 -4.52891339e+00 -1.30303742e+00\n",
      " -1.52011057e+00  1.06673214e+00  1.31958021e+00  3.29961399e+00\n",
      " -2.27372910e+00 -3.07394294e+00]\n",
      "40: [-2.82047830e+00  2.00584457e+00 -3.52475321e-01  1.89035438e-01\n",
      "  4.25828933e+00 -2.47227525e+00  5.63920051e-01 -4.81489572e+00\n",
      " -8.03849939e-04 -8.66132443e-01 -2.60730217e+00 -5.33110363e-01\n",
      " -5.79376955e-01  5.79044454e-01 -2.37333186e+00  1.32685523e+00\n",
      "  2.89259337e+00 -1.58139053e+00  4.75110889e-02 -2.03985159e+00\n",
      " -3.43425823e+00 -1.68666575e+00  4.58114319e-01  8.16213741e-02\n",
      " -2.65271628e-01  3.53448928e+00 -1.04876335e+00  1.16726970e+00\n",
      "  1.38692924e+00 -2.76290592e+00  9.84003117e-01  2.33593705e+00\n",
      " -1.20741478e+00 -1.46901752e+00  1.31613387e+00  2.19875460e+00\n",
      " -3.33260765e+00  3.46472183e+00 -3.14640055e+00  1.45557874e-01]\n",
      "Total time: duration:  8.011 seconds\n"
     ]
    }
   ],
   "source": [
    "ray.timeline(timeline_file)\n",
    "start = time.time()\n",
    "array_refs = [make_array.remote(n*10) for n in range(5)]\n",
    "added_array_refs = [add_arrays.remote(ref, ref) for ref in array_refs]\n",
    "for array in ray.get(added_array_refs):\n",
    "    print(f'{array.size}: {array}')\n",
    "pd(time.time() - start, prefix=\"Total time:\")"
   ]
  },
  {
   "cell_type": "markdown",
   "metadata": {},
   "source": [
    "Now, to view the data:\n",
    "\n",
    "1. Open Chrome and enter chrome://tracing.\n",
    "2. Click the _Load_ button to load the `task-timeline.txt` file, which will be in this notebook's directory. \n",
    "3. To zoom in or out, click the \"asymmetric\" up-down arrow button. Then hold the mouse button in the graph and roll the mouse scroll wheel up or down. (On a laptop trackpad, press and hold, then use another finger to slide up and down.)\n",
    "4. To move around, click the crossed arrow and drag a section in view. \n",
    "5. Click on a box in the timeline to see details about it. \n",
    "\n",
    "Look for blocks corresponding to long-running tasks and look for idle periods, which reflect processing outside the context of Ray.\n",
    "\n",
    "Here is a screen grab profiling the previous code, zoomed in on one block of tasks and with one task selected. Note the processes shown on the left for drivers (more than one notebook was running at this time) and workers.\n",
    "\n",
    "![Ray Trace Example](../images/Ray-Trace-Example.png)"
   ]
  },
  {
   "cell_type": "code",
   "execution_count": 16,
   "metadata": {},
   "outputs": [],
   "source": [
    "shutdown_ray_cluster()"
   ]
  },
  {
   "cell_type": "markdown",
   "metadata": {},
   "source": [
    "The next lesson, [Ray Actors Revisited](02-Ray-Actors-Revisited.ipynb), revisits actors. It provides a more in-depth look at actor characteristics and profiling actor performance using the _Ray Dashboard_."
   ]
  }
 ],
 "metadata": {
  "kernelspec": {
   "display_name": "Python 3 (ipykernel)",
   "language": "python",
   "name": "python3"
  },
  "language_info": {
   "codemirror_mode": {
    "name": "ipython",
    "version": 3
   },
   "file_extension": ".py",
   "mimetype": "text/x-python",
   "name": "python",
   "nbconvert_exporter": "python",
   "pygments_lexer": "ipython3",
   "version": "3.8.12"
  },
  "toc": {
   "base_numbering": 1,
   "nav_menu": {},
   "number_sections": false,
   "sideBar": true,
   "skip_h1_title": false,
   "title_cell": "Table of Contents",
   "title_sidebar": "Contents",
   "toc_cell": false,
   "toc_position": {
    "height": "calc(100% - 180px)",
    "left": "10px",
    "top": "150px",
    "width": "382.391px"
   },
   "toc_section_display": true,
   "toc_window_display": true
  }
 },
 "nbformat": 4,
 "nbformat_minor": 4
}
