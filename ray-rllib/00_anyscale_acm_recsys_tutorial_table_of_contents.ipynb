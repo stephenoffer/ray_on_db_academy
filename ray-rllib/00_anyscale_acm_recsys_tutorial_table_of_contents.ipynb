{
 "cells": [
  {
   "cell_type": "markdown",
   "id": "81c74fa0-cd5b-46f5-b25e-fafbdc530e1e",
   "metadata": {},
   "source": [
    "# Ray RLlib Tutorial\n",
    "\n",
    "## About This Tutorial\n",
    "\n",
    "This section will cover RLlib, a Ray library for distributed Reinforcement Learning.\n",
    "\n",
    "## Getting Ray Set Up on a Databricks Cluster\n",
    "\n",
    "To get started with this course, please create a cluster with this configuration:\n",
    "\n",
    "- Ray on Databricks currently only supports Single-Access mode clusters\n",
    "- The init functions in this course are set to run with 2 worker nodes and 4 CPUs per node, so select a cluster with at least 2 workers and 4 CPUs available per node.\n",
    "- Ray will be included in the Databricks Machine Learning Runtime (MLR) in Q1 of 2024, but if not using the latest MLR, please install using the Libraries panel, selecting PyPI as the source and installing 'ray[all]'\n",
    "\n",
    "This cluster can be reused for all sections of this course.\n"
   ]
  },
  {
   "cell_type": "markdown",
   "id": "2e96914c-d140-465d-b062-2fb8c7f79698",
   "metadata": {},
   "source": [
    "|     | Lesson | Description |\n",
    "| :-- | :----- | :---------- |\n",
    "|     | **Homework** | Suggested **only** if you are a beginner to RL and RLlib |\n",
    "| 01  | [Intro to RL, RLlib and Gym Environment APIs](01_intro_gym_and_rllib_optional.ipynb) | Introduction to Reinforcement Learning, RLlib, and the OpenAI Gym Env APIs |\n",
    "|     | **Main Notebook** |\n",
    "| 02  | [Create your RL RecSys Environment, Train Online RL, Offline RL Algorithms](02_anyscale_acm_recsys_tutorial.ipynb) | RecSys Env, Online RL Bandits and DQN, and Offline RL |\n",
    "\n",
    "<br>\n"
   ]
  }
 ],
 "metadata": {
  "kernelspec": {
   "display_name": "Python 3 (ipykernel)",
   "language": "python",
   "name": "python3"
  },
  "language_info": {
   "codemirror_mode": {
    "name": "ipython",
    "version": 3
   },
   "file_extension": ".py",
   "mimetype": "text/x-python",
   "name": "python",
   "nbconvert_exporter": "python",
   "pygments_lexer": "ipython3",
   "version": "3.8.13"
  }
 },
 "nbformat": 4,
 "nbformat_minor": 5
}
