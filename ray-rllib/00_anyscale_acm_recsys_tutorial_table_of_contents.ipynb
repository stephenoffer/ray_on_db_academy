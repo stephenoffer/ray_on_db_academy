{
 "cells": [
  {
   "cell_type": "markdown",
   "id": "81c74fa0-cd5b-46f5-b25e-fafbdc530e1e",
   "metadata": {},
   "source": [
    "# Ray RLlib Tutorial\n",
    "\n",
    "## About This Tutorial\n",
    "\n",
    "\n",
    "See the instructions in the [README](README.md) overview for setting up your environment to use this tutorial if you want to run this on your laptop.\n",
    "\n",
    "If you are using Anyscale hosted enviroment for this class, then you do not have to do anything!\n"
   ]
  },
  {
   "cell_type": "markdown",
   "id": "2e96914c-d140-465d-b062-2fb8c7f79698",
   "metadata": {},
   "source": [
    "|     | Lesson | Description |\n",
    "| :-- | :----- | :---------- |\n",
    "|     | **Homework** | Suggested **only** if you are a beginner to RL and RLlib |\n",
    "| 01  | [Intro to RL, RLlib and Gym Environment APIs](01_intro_gym_and_rllib_optional.ipynb) | Introduction to Reinforcement Learning, RLlib, and the OpenAI Gym Env APIs |\n",
    "|     | **Main Notebook** |\n",
    "| 02  | [Create your RL RecSys Environment, Train Online RL, Offline RL Algorithms](02_anyscale_acm_recsys_tutorial.ipynb) | RecSys Env, Online RL Bandits and DQN, and Offline RL |\n",
    "\n",
    "<br>\n"
   ]
  },
  {
   "cell_type": "code",
   "execution_count": null,
   "id": "340779a2-901f-4e31-8909-5fbc09834427",
   "metadata": {},
   "outputs": [],
   "source": []
  }
 ],
 "metadata": {
  "kernelspec": {
   "display_name": "Python 3 (ipykernel)",
   "language": "python",
   "name": "python3"
  },
  "language_info": {
   "codemirror_mode": {
    "name": "ipython",
    "version": 3
   },
   "file_extension": ".py",
   "mimetype": "text/x-python",
   "name": "python",
   "nbconvert_exporter": "python",
   "pygments_lexer": "ipython3",
   "version": "3.8.13"
  }
 },
 "nbformat": 4,
 "nbformat_minor": 5
}
