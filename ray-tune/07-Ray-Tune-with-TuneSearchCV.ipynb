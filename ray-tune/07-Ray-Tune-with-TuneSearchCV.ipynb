{
 "cells": [
  {
   "cell_type": "markdown",
   "id": "fc868109-720c-4125-aeb4-4dc473068425",
   "metadata": {},
   "source": [
    "# Ray Tune - Comparision of RandomSearchCV and TuneSearchCV with XGBoost"
   ]
  },
  {
   "cell_type": "markdown",
   "id": "434bee7f-ed1f-48a1-b976-65d9a82e00e0",
   "metadata": {},
   "source": [
    "<img src = \"../images/tune/driver.png\" align=\"center\" height=300 width=300>\n",
    "\n",
    "[Porto Seguro](https://www.portoseguro.com.br/), one of Brazil’s largest auto and homeowner insurance companies, completely agrees. Inaccuracies in car insurance company’s claim predictions raise the cost of insurance for good drivers and reduce the price for bad ones.\n",
    "\n",
    "A data set from Porto Seguro was used in the [Kaggle's machine learning competetion](https://www.kaggle.com/c/porto-seguro-safe-driver-prediction). The data set is used build a classification model to predict the probability that a driver will initiate an auto insurance claim in the next year. The predictions can be used to further tailor insurance prices, and hopefully make auto insurance coverage more accessible to more drivers.\n",
    "\n",
    "In this exercise we show two things:\n",
    "\n",
    "1. Composibility of using different algorithms and hyperameters tuning using sklearn and xgboost\n",
    "2. Tune's drop-in replacements (or wrappers) for RandomSearchCV to use optuna as a choice of search algorithm.\n",
    "\n",
    "Although, drop-in replacements was introduced in earlier in [03-Ray-Tune-with-Sklearn](03-Ray-Tune-with-Sklearn.ipynb), this demonstrates\n",
    "with the larger dataset and real life use case.\n",
    "\n",
    "We need some python packages, so let's install them"
   ]
  },
  {
   "cell_type": "code",
   "execution_count": null,
   "id": "146b8add-52e2-49c1-bfcc-b3cf09539ba4",
   "metadata": {},
   "outputs": [],
   "source": [
    "!pip install -U boto3 plotly xgboost optuna tune-sklearn scikit-learn"
   ]
  },
  {
   "cell_type": "code",
   "execution_count": null,
   "id": "43141e98",
   "metadata": {
    "tags": []
   },
   "outputs": [],
   "source": [
    "import boto3\n",
    "from io import BytesIO\n",
    "import joblib\n",
    "import numpy as np\n",
    "import pandas as pd\n",
    "import pandas as pd\n",
    "import plotly.express as px\n",
    "import ray\n",
    "from ray import tune\n",
    "from ray.tune.callback import Callback\n",
    "from ray.tune.suggest.bohb import TuneBOHB\n",
    "from ray.tune.schedulers import HyperBandForBOHB\n",
    "from scipy.stats import loguniform, randint, uniform\n",
    "from sklearn.model_selection import RandomizedSearchCV\n",
    "from sklearn.metrics import roc_auc_score\n",
    "from sklearn.model_selection import StratifiedKFold\n",
    "import tqdm\n",
    "from tqdm.notebook import trange, tqdm\n",
    "from tune_sklearn import TuneSearchCV\n",
    "from xgboost import XGBClassifier\n",
    "\n",
    "from ray.util.spark import setup_ray_cluster, shutdown_ray_cluster\n",
    "import ray \n",
    "\n",
    "setup_ray_cluster(\n",
    "  num_worker_nodes=2,\n",
    "  num_cpus_per_node=4,\n",
    "  collect_log_to_path=\"/dbfs/path/to/ray_collected_logs\"\n",
    ")\n",
    "ray.init()"
   ]
  },
  {
   "cell_type": "code",
   "execution_count": null,
   "id": "d3fc25ac-6fc5-44c6-a5bc-01f0bd80e21b",
   "metadata": {},
   "outputs": [],
   "source": [
    "import logging\n",
    "logging.disable(logging.INFO)\n",
    "logging.disable(logging.WARNING)\n",
    "import warnings\n",
    "warnings.filterwarnings(\"ignore\")\n",
    "import xgboost as xgb\n",
    "xgb.set_config(verbosity=1)"
   ]
  },
  {
   "cell_type": "code",
   "execution_count": null,
   "id": "99ff0144-69e9-49a3-8fe3-61dc0571f206",
   "metadata": {},
   "outputs": [],
   "source": [
    "import os\n",
    "os.environ[\"TUNE_DISABLE_AUTO_CALLBACK_SYNCER\"] = \"1\"\n",
    "\n",
    "# desired maximum number of concurrent trials\n",
    "os.environ[\"TUNE_MAX_PENDING_TRIALS_PG\"] = \"64\"\n",
    "\n",
    "class TqdmCallback(Callback):\n",
    "    def setup(self,\n",
    "              stop = None,\n",
    "              num_samples = None,\n",
    "              total_num_samples = None,\n",
    "              **info):\n",
    "        self.pbar = tqdm(total=total_num_samples)\n",
    "\n",
    "    def on_trial_complete(self, **info):\n",
    "        self.pbar.update(1)\n",
    "\n",
    "    def on_experiment_end(self, **info):\n",
    "        self.pbar.close()"
   ]
  },
  {
   "cell_type": "code",
   "execution_count": null,
   "id": "85b724a5-9a31-414d-8330-ff885aa1c55b",
   "metadata": {
    "tags": []
   },
   "outputs": [],
   "source": [
    "def plot_cv_score(analysis):\n",
    "    df = analysis.results_df[[\"average_test_score\", \"timestamp\"]]\n",
    "    df[\"timestamp\"] = pd.to_datetime(df['timestamp'], unit='s')\n",
    "    df.set_index(\"timestamp\", inplace=True)\n",
    "    df.sort_index(inplace=True)\n",
    "    df[\"cummax_cv_score\"] = df[\"average_test_score\"].cummax()\n",
    "    df = df[~df.index.duplicated(keep=\"last\")]\n",
    "    df = df[\"cummax_cv_score\"].resample(\"1S\").bfill()\n",
    "    fig = px.line(df, y=\"cummax_cv_score\")\n",
    "    fig.show()"
   ]
  },
  {
   "cell_type": "markdown",
   "id": "159a0c09-09d7-459d-9ee4-791541a01440",
   "metadata": {},
   "source": [
    "### Step 1: Read our data from S3"
   ]
  },
  {
   "cell_type": "code",
   "execution_count": null,
   "id": "8e62e1a5",
   "metadata": {
    "tags": []
   },
   "outputs": [],
   "source": [
    "%%time\n",
    "DATA_URL = \"https://ray-ci-higgs.s3.us-west-2.amazonaws.com/\" \\\n",
    "                      \"safe_driver.csv\"\n",
    "print(\"Reading data from S3...\")\n",
    "train_df = pd.read_csv(DATA_URL, dtype={'id': np.int32, 'target': np.int8})\n",
    "\n",
    "y = train_df['target'].values\n",
    "X = train_df.drop(['target', 'id'], axis=1)\n",
    "\n",
    "from sklearn.model_selection import train_test_split\n",
    "X_train, X_test, y_train, y_test = train_test_split(X, y, stratify=y, test_size=0.2, random_state=1234)\n",
    "t, f = train_df.shape\n",
    "print(f'training set: {t}, features:{f}')"
   ]
  },
  {
   "cell_type": "markdown",
   "id": "228a4977-28a8-4902-b988-4865f43819b5",
   "metadata": {},
   "source": [
    "#### Define some utility functions"
   ]
  },
  {
   "cell_type": "code",
   "execution_count": null,
   "id": "4ec29324-3c11-4f47-bc86-958e47d473b0",
   "metadata": {
    "tags": []
   },
   "outputs": [],
   "source": [
    "def print_test_score(model, X_test, y_test):\n",
    "    y_pred = model.predict_proba(X_test)\n",
    "    roc_auc = roc_auc_score(y_test, y_pred[:,1])\n",
    "    print(\"**************** roc_auc score: {} ****************\".format(roc_auc))\n",
    "\n",
    "def train_model_and_print_test_score(model, X_train, y_train, X_test, y_test):\n",
    "    skf = StratifiedKFold(n_splits=3, shuffle=True, random_state=1234)\n",
    "    run_cv = RandomizedSearchCV(model, \n",
    "                                param_distributions= {},  # no parameters distribution\n",
    "                                n_iter=1, \n",
    "                                scoring='roc_auc', \n",
    "                                n_jobs=-1, \n",
    "                                cv=skf.split(X_train,y_train), \n",
    "                                verbose=1, \n",
    "                                random_state=1001)\n",
    "    run_cv.fit(X_train, y_train)\n",
    "    print_test_score(run_cv.best_estimator_, X_test, y_test)"
   ]
  },
  {
   "cell_type": "markdown",
   "id": "4d17b668-a087-473d-96d0-d2a508d056ed",
   "metadata": {},
   "source": [
    "### Step 2: Define our XGBoost classifier "
   ]
  },
  {
   "cell_type": "code",
   "execution_count": null,
   "id": "6760a164",
   "metadata": {},
   "outputs": [],
   "source": [
    "model = XGBClassifier(objective='binary:logistic', \n",
    "                      n_jobs=1, \n",
    "                      eval_metric='auc', \n",
    "                      random_state=1234, \n",
    "                      verbosity=1, \n",
    "                      use_label_encoder=False)"
   ]
  },
  {
   "cell_type": "markdown",
   "id": "ad249ebd-674f-4b1f-8bba-d357818ad9ba",
   "metadata": {},
   "source": [
    "### Step 3: Use Vanilla sklearn RandomSearchCV without parameters search space"
   ]
  },
  {
   "cell_type": "code",
   "execution_count": null,
   "id": "3c5bdd76",
   "metadata": {
    "tags": []
   },
   "outputs": [],
   "source": [
    "%%time\n",
    "train_model_and_print_test_score(model, X_train, y_train, X_test, y_test)"
   ]
  },
  {
   "cell_type": "markdown",
   "id": "a89b8f62-9c55-4228-a230-03c5186f0767",
   "metadata": {},
   "source": [
    "### Step 4: Use Vanilla scikit-learn RandomSearchCV with parameters search space"
   ]
  },
  {
   "cell_type": "code",
   "execution_count": null,
   "id": "57b97f49",
   "metadata": {
    "tags": []
   },
   "outputs": [],
   "source": [
    "params = {\n",
    "        \"max_depth\": randint(1, 5),\n",
    "        \"min_child_weight\": loguniform(0.001, 128),\n",
    "        \"subsample\": uniform(0.1, 1.0),\n",
    "        \"colsample_bylevel\": uniform(0.01, 1.0),\n",
    "        \"colsample_bytree\": uniform(0.01, 1.0),\n",
    "        \"reg_alpha\": loguniform(1 / 1024, 10.0),\n",
    "        \"reg_lambda\": loguniform(1 / 1024, 10.0),\n",
    "        \"scale_pos_weight\": [1, 26],\n",
    "}\n",
    "number_of_cv_splits = 3"
   ]
  },
  {
   "cell_type": "code",
   "execution_count": null,
   "id": "58b13d2d-739c-4f5b-9f7c-6fc05a43d6d9",
   "metadata": {},
   "outputs": [],
   "source": [
    "%%time\n",
    "gs = RandomizedSearchCV(\n",
    "    model, \n",
    "    params,\n",
    "    cv=number_of_cv_splits,\n",
    "    n_iter=100, \n",
    "    scoring='roc_auc', \n",
    "    n_jobs=-1, # use all cores in a single node\n",
    "    verbose=1,\n",
    ")\n",
    "\n",
    "gs.fit(X_train, y_train)                    "
   ]
  },
  {
   "cell_type": "code",
   "execution_count": null,
   "id": "805eab54-7d0e-4f15-a7c9-87794bd29e26",
   "metadata": {},
   "outputs": [],
   "source": [
    "# Report some time and performance statistics\n",
    "total_tuning_compute_time = np.sum(gs.cv_results_['mean_fit_time'])\n",
    "average_train_time = np.mean(gs.cv_results_['mean_fit_time'])\n",
    "print(f'Sklearn total tuning time search took: {average_train_time:02f} seconds')\n",
    "print(f'Sklearn search took: {average_train_time:02f} seconds')\n",
    "print(f'Best score for AUC: {gs.best_score_:.3f}') "
   ]
  },
  {
   "cell_type": "markdown",
   "id": "811690c2-439e-462c-89a4-fdf5ad3f17a6",
   "metadata": {},
   "source": [
    "### Step 5: Let's try with Ray Tune\n",
    "\n",
    "Taking an exisiting scikit-learn program and converting to Ray Tune, using its drop-in replacement, takes only few lines of code changes.\n",
    "\n",
    "**Note**: Runing this locally on Ray will take a long time. Suggest using Ray cluster on Anyscale or AWS"
   ]
  },
  {
   "cell_type": "code",
   "execution_count": null,
   "id": "a262c381-4780-40a5-82e3-ca4670bfd620",
   "metadata": {},
   "outputs": [],
   "source": [
    "CONNECT_TO_ANYSCALE=True\n",
    "if ray.is_initialized:\n",
    "    ray.shutdown()\n",
    "    if CONNECT_TO_ANYSCALE:\n",
    "        ray.init(\"anyscale://jsd-tune-scikit-learn-xgboost-demo\", cluster_env=\"jsd-tune-demo-env:10\") \n",
    "        #ray.init(address=\"auto\", ignore_reinit_error=True)     # Connects to a Ray cluster   \n",
    "    else:\n",
    "        ray.init(ignore_reinit_error=True)                       # Runs locally on my laptop"
   ]
  },
  {
   "cell_type": "code",
   "execution_count": null,
   "id": "55179624-4665-4a01-b996-7dbd2286f7e2",
   "metadata": {},
   "outputs": [],
   "source": [
    "ray.cluster_resources()"
   ]
  },
  {
   "cell_type": "markdown",
   "id": "fb3beeee-c24e-421d-9715-13b05fe7608a",
   "metadata": {},
   "source": [
    "### Define our hyperparameter config space using tune"
   ]
  },
  {
   "cell_type": "code",
   "execution_count": null,
   "id": "0855fcc4-8c63-4116-b8fe-65abf024a1e9",
   "metadata": {},
   "outputs": [],
   "source": [
    "tune_config_params = {\n",
    "        \"max_depth\": tune.randint(1, 5),\n",
    "        \"min_child_weight\": tune.loguniform(0.001, 128),\n",
    "        \"subsample\": tune.uniform(0.1, 1.0),\n",
    "        \"colsample_bylevel\": tune.uniform(0.01, 1.0),\n",
    "        \"colsample_bytree\": tune.uniform(0.01, 1.0),\n",
    "        \"reg_alpha\": tune.loguniform(1 / 1024, 10.0),\n",
    "        \"reg_lambda\": tune.loguniform(1 / 1024, 10.0),\n",
    "        \"scale_pos_weight\": tune.choice([1, 26]),\n",
    "}"
   ]
  },
  {
   "cell_type": "markdown",
   "id": "0296356f-b02f-447b-a26a-8bcc75b2fbda",
   "metadata": {},
   "source": [
    "### Use Tune's drop-in replacement: TuneSearchCV"
   ]
  },
  {
   "cell_type": "code",
   "execution_count": null,
   "id": "6f48d27a-0c55-4975-b455-25d4822267c8",
   "metadata": {},
   "outputs": [],
   "source": [
    "%%time\n",
    "tune_gs = TuneSearchCV(\n",
    "    model, \n",
    "    tune_config_params,\n",
    "    cv=3,\n",
    "    n_trials=100, \n",
    "    scoring='roc_auc', \n",
    "    n_jobs=100,  # change to 40 if running on a ray cluster \n",
    "                 # or equal to total number of CPUs \n",
    "    verbose=1,\n",
    "    # Custom Key word arguments\n",
    "    early_stopping=True,\n",
    "    max_iters=10,   #equivalent to epoch in NN      \n",
    "    loggers = [\"tensorboard\"],\n",
    "    search_optimization=\"optuna\", # Default is ASHA\n",
    "    name=\"tune-experiment\"\n",
    ")\n",
    "\n",
    "tune_gs.fit(X_train, y_train, tune_params=dict(callbacks=[TqdmCallback()]))"
   ]
  },
  {
   "cell_type": "code",
   "execution_count": null,
   "id": "b1bc46c2-dd5c-4a4b-94ed-74b8aa494dba",
   "metadata": {},
   "outputs": [],
   "source": [
    "print(f'Best parameters: {tune_gs.best_params_}')\n",
    "print(f'Best AUC score : {tune_gs.best_score_}')"
   ]
  },
  {
   "cell_type": "markdown",
   "id": "d991f9f9-f02b-4405-9637-f7821805b468",
   "metadata": {},
   "source": [
    "#### Plot the times"
   ]
  },
  {
   "cell_type": "code",
   "execution_count": null,
   "id": "63f73833-3643-4142-b073-c3171b001fab",
   "metadata": {},
   "outputs": [],
   "source": [
    "plot_cv_score(tune_gs.analysis_)"
   ]
  },
  {
   "cell_type": "code",
   "execution_count": null,
   "id": "0bf2bc09-50ce-4ea7-86ab-c1767d75afd7",
   "metadata": {},
   "outputs": [],
   "source": [
    "shutdown_ray_cluster()"
   ]
  }
 ],
 "metadata": {
  "kernelspec": {
   "display_name": "Python 3 (ipykernel)",
   "language": "python",
   "name": "python3"
  },
  "language_info": {
   "codemirror_mode": {
    "name": "ipython",
    "version": 3
   },
   "file_extension": ".py",
   "mimetype": "text/x-python",
   "name": "python",
   "nbconvert_exporter": "python",
   "pygments_lexer": "ipython3",
   "version": "3.8.10"
  }
 },
 "nbformat": 4,
 "nbformat_minor": 5
}
