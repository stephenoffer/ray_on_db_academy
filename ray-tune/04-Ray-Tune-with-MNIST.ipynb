{
 "cells": [
  {
   "cell_type": "markdown",
   "metadata": {},
   "source": [
    "# Ray Tune - A Deeper Dive Using MNIST with PyTorch\n",
    "\n",
    "A [previous notebook](02-Understanding-Hyperparameter-Tuning.ipynb) explained the concept of hyperparameter tuning/optimization (HPO) and walked through the basics of using [Ray Tune](https://ray.readthedocs.io/en/latest/tune.html), and another [notebook on Tune and Sklearn](03-Ray-Tune-with-Sklearn.ipynb) showed Tune's drop-in replacements for HPO.\n",
    "\n",
    "Now we'll use another example to explore more of the Tune API features. We'll use the [MNIST](http://yann.lecun.com/exdb/mnist/) of hand-written digits and train a [PyTorch](https://pytorch.org/) model to recognize them."
   ]
  },
  {
   "cell_type": "code",
   "execution_count": 1,
   "metadata": {},
   "outputs": [],
   "source": [
    "import os \n",
    "from torchvision import datasets, transforms\n",
    "import torch\n",
    "import torch.optim as optim\n",
    "import torch.nn as nn\n",
    "import torch.nn.functional as F\n",
    "from filelock import FileLock"
   ]
  },
  {
   "cell_type": "markdown",
   "metadata": {},
   "source": [
    "## PyTorch Hyperparameter Tuning\n",
    "\n",
    "Our example will closely follow the code in the [PyTorch MNIST example](https://github.com/pytorch/examples/blob/master/mnist/main.py). However, we will create an even simpler model than the one in the example, although you could try that model and compare its predictions.\n",
    "\n",
    "Let's start by defining a few global variables for epoch and test sizes. Also define a data location."
   ]
  },
  {
   "cell_type": "code",
   "execution_count": 2,
   "metadata": {},
   "outputs": [],
   "source": [
    "EPOCH_SIZE = 512\n",
    "TEST_SIZE = 256\n",
    "\n",
    "DATA_ROOT = '../data/mnist'"
   ]
  },
  {
   "cell_type": "markdown",
   "metadata": {},
   "source": [
    "The following class defines a convolutional neural network.\n",
    "\n",
    "> **Tip:** Most of these code definitions can be found in `mnist.py`, too."
   ]
  },
  {
   "cell_type": "code",
   "execution_count": 3,
   "metadata": {},
   "outputs": [],
   "source": [
    "class ConvNet(nn.Module):\n",
    "    def __init__(self):\n",
    "        super(ConvNet, self).__init__()\n",
    "        self.conv1 = nn.Conv2d(1, 3, kernel_size=3)\n",
    "        self.fc = nn.Linear(192, 10)\n",
    "\n",
    "    def forward(self, x):\n",
    "        x = F.relu(F.max_pool2d(self.conv1(x), 3))\n",
    "        x = x.view(-1, 192)\n",
    "        x = self.fc(x)\n",
    "        return F.log_softmax(x, dim=1)"
   ]
  },
  {
   "cell_type": "markdown",
   "metadata": {},
   "source": [
    "After creating that network, we can now create our data loaders for training and test data. These are just plain [PyTorch `DataLoaders`](https://pytorch.org/docs/1.1.0/data.html?highlight=dataloader#torch.utils.data.DataLoader) with two additions:\n",
    "\n",
    "1. A `FileLock` is added to ensure that only one process downloads the data on each machine, just in case we have multiple workers per machine in our Ray cluster.\n",
    "2. The root directory for the data can be specified and it will be created if it doesn't exist.\n",
    "\n",
    "Otherwise, this code is identical to the [PyTorch example version](https://github.com/pytorch/examples/blob/master/mnist/main.py#L101)."
   ]
  },
  {
   "cell_type": "code",
   "execution_count": 4,
   "metadata": {},
   "outputs": [],
   "source": [
    "def get_data_loaders():\n",
    "    mnist_transforms = transforms.Compose(\n",
    "        [transforms.ToTensor(),\n",
    "         transforms.Normalize((0.1307, ), (0.3081, ))])\n",
    "\n",
    "    # We add FileLock here because multiple workers on the same machine coulde try \n",
    "    # download the data. This would cause overwrites, since DataLoader is not threadsafe.\n",
    "    # You wouldn't need this for single-process training.\n",
    "    lock_file = f'{DATA_ROOT}/data.lock'\n",
    "    import os\n",
    "    if not os.path.exists(DATA_ROOT):\n",
    "        os.makedirs(DATA_ROOT)\n",
    "        \n",
    "    with FileLock(os.path.expanduser(lock_file)):\n",
    "        train_loader = torch.utils.data.DataLoader(\n",
    "            datasets.MNIST(DATA_ROOT, train=True, download=True, transform=mnist_transforms),\n",
    "            batch_size=64,\n",
    "            shuffle=True)\n",
    "\n",
    "        test_loader = torch.utils.data.DataLoader(\n",
    "            datasets.MNIST(DATA_ROOT, train=False, transform=mnist_transforms),\n",
    "            batch_size=64,\n",
    "            shuffle=True)\n",
    "    return train_loader, test_loader"
   ]
  },
  {
   "cell_type": "markdown",
   "metadata": {},
   "source": [
    "Now we define our training and test functions. While the arguments are a bit switched up from the original PyTorch tutorial, the difference is inconsequential. The arguments are an optimizer, a model, the training data loader, and our device. Then we train the model."
   ]
  },
  {
   "cell_type": "code",
   "execution_count": 5,
   "metadata": {},
   "outputs": [],
   "source": [
    "def train(model, optimizer, train_loader, device=torch.device(\"cpu\")):\n",
    "    model.train()\n",
    "    for batch_idx, (data, target) in enumerate(train_loader):\n",
    "        if batch_idx * len(data) > EPOCH_SIZE:\n",
    "            return\n",
    "        data, target = data.to(device), target.to(device)\n",
    "        optimizer.zero_grad()\n",
    "        output = model(data)\n",
    "        loss = F.nll_loss(output, target)\n",
    "        loss.backward()\n",
    "        optimizer.step()"
   ]
  },
  {
   "cell_type": "markdown",
   "metadata": {},
   "source": [
    "Similarly for our test model, we define a basic _average correct prediction_ metric that we will track. We could add more metrics, but we'll keep it simple."
   ]
  },
  {
   "cell_type": "code",
   "execution_count": 6,
   "metadata": {},
   "outputs": [],
   "source": [
    "def test(model, data_loader, device=torch.device(\"cpu\")):\n",
    "    model.eval()\n",
    "    correct = 0\n",
    "    total = 0\n",
    "    with torch.no_grad():\n",
    "        for batch_idx, (data, target) in enumerate(data_loader):\n",
    "            if batch_idx * len(data) > TEST_SIZE:\n",
    "                break\n",
    "            data, target = data.to(device), target.to(device)\n",
    "            outputs = model(data)\n",
    "            _, predicted = torch.max(outputs.data, 1)\n",
    "            total += target.size(0)\n",
    "            correct += (predicted == target).sum().item()\n",
    "\n",
    "    return correct / total"
   ]
  },
  {
   "cell_type": "markdown",
   "metadata": {},
   "source": [
    "Finally, we create a wrapper function for this particular model. In doing so all we need to do is specify the configuration for the model that we would like to train and the function will do the rest:\n",
    "\n",
    "1. Retrieve the data with the loaders returned by `get_data_loaders()`\n",
    "2. Create the `ConvNet` model\n",
    "3. Optimize the model using _stochastic gradient descent_."
   ]
  },
  {
   "cell_type": "code",
   "execution_count": 7,
   "metadata": {},
   "outputs": [],
   "source": [
    "def train_mnist(config):\n",
    "    train_loader, test_loader = get_data_loaders()\n",
    "    model = ConvNet()\n",
    "    optimizer = optim.SGD(model.parameters(), lr=config[\"lr\"], momentum=config['momentum'])\n",
    "    for i in range(10):\n",
    "        train(model, optimizer, train_loader)\n",
    "        acc = test(model, test_loader)\n",
    "        print(f\"accuracy: {acc}\")"
   ]
  },
  {
   "cell_type": "markdown",
   "metadata": {},
   "source": [
    "### Single-Node Hyperparameter Tuning\n",
    "\n",
    "Let's show what we might do if we performed hyperparameter tuning on a single machine. We would have to enumerate all the possibilities and either train them serially or use something like multiprocessing to train them in parallel. That setup takes a little bit of work so people often decide to train them serially, which is easiest, but requires the most time.\n",
    "\n",
    "This is what we might do."
   ]
  },
  {
   "cell_type": "code",
   "execution_count": 8,
   "metadata": {},
   "outputs": [
    {
     "name": "stdout",
     "output_type": "stream",
     "text": [
      "12\n"
     ]
    },
    {
     "data": {
      "text/plain": [
       "[(0.001, 0.001),\n",
       " (0.001, 0.01),\n",
       " (0.001, 0.1),\n",
       " (0.001, 0.9),\n",
       " (0.01, 0.001),\n",
       " (0.01, 0.01),\n",
       " (0.01, 0.1),\n",
       " (0.01, 0.9),\n",
       " (0.1, 0.001),\n",
       " (0.1, 0.01),\n",
       " (0.1, 0.1),\n",
       " (0.1, 0.9)]"
      ]
     },
     "execution_count": 8,
     "metadata": {},
     "output_type": "execute_result"
    }
   ],
   "source": [
    "import itertools\n",
    "conf = {\n",
    "    \"lr\": [0.001, 0.01, 0.1],\n",
    "    \"momentum\": [0.001, 0.01, 0.1, 0.9]\n",
    "}\n",
    "\n",
    "combinations = list(itertools.product(*conf.values()))\n",
    "print(len(combinations))\n",
    "combinations"
   ]
  },
  {
   "cell_type": "code",
   "execution_count": 9,
   "metadata": {},
   "outputs": [
    {
     "name": "stdout",
     "output_type": "stream",
     "text": [
      "accuracy: 0.078125\n",
      "accuracy: 0.1\n",
      "accuracy: 0.090625\n",
      "accuracy: 0.134375\n",
      "accuracy: 0.090625\n",
      "accuracy: 0.121875\n",
      "accuracy: 0.11875\n",
      "accuracy: 0.13125\n",
      "accuracy: 0.11875\n",
      "accuracy: 0.1875\n"
     ]
    }
   ],
   "source": [
    "for lr, momentum in combinations:\n",
    "    train_mnist({\"lr\":lr, \"momentum\":momentum})\n",
    "    break # we'll stop this after one run and just use it for illustrative purposes"
   ]
  },
  {
   "cell_type": "markdown",
   "metadata": {},
   "source": [
    "### Distributed Hyperparameter Tuning with Ray Tune\n",
    "\n",
    "Ray Tune makes it trivial to move this code from a single node to multiple nodes. Let's see how to use the code we've written with Ray Tune.\n",
    "\n",
    "First, we set up Ray as before."
   ]
  },
  {
   "cell_type": "code",
   "execution_count": 10,
   "metadata": {},
   "outputs": [],
   "source": [
    "import ray\n",
    "from ray import tune"
   ]
  },
  {
   "cell_type": "code",
   "execution_count": 11,
   "metadata": {},
   "outputs": [
    {
     "name": "stderr",
     "output_type": "stream",
     "text": [
      "2022-03-16 16:06:02,219\tINFO services.py:1412 -- View the Ray dashboard at \u001b[1m\u001b[32mhttp://127.0.0.1:8266\u001b[39m\u001b[22m\n"
     ]
    },
    {
     "data": {
      "text/plain": [
       "{'node_ip_address': '127.0.0.1',\n",
       " 'raylet_ip_address': '127.0.0.1',\n",
       " 'redis_address': None,\n",
       " 'object_store_address': '/tmp/ray/session_2022-03-16_16-05-59_806072_59299/sockets/plasma_store',\n",
       " 'raylet_socket_name': '/tmp/ray/session_2022-03-16_16-05-59_806072_59299/sockets/raylet',\n",
       " 'webui_url': '127.0.0.1:8266',\n",
       " 'session_dir': '/tmp/ray/session_2022-03-16_16-05-59_806072_59299',\n",
       " 'metrics_export_port': 57268,\n",
       " 'gcs_address': '127.0.0.1:61829',\n",
       " 'address': '127.0.0.1:61829',\n",
       " 'node_id': '5909d4d6039dfaf48d012ffbdded22d86fcb8439183926c4f64db43b'}"
      ]
     },
     "execution_count": 11,
     "metadata": {},
     "output_type": "execute_result"
    }
   ],
   "source": [
    "from ray.util.spark import setup_ray_cluster, shutdown_ray_cluster\n",
    "\n",
    "setup_ray_cluster(\n",
    "  num_worker_nodes=2,\n",
    "  num_cpus_per_node=4,\n",
    "  collect_log_to_path=\"/dbfs/path/to/ray_collected_logs\"\n",
    ")\n",
    "ray.init()"
   ]
  },
  {
   "cell_type": "markdown",
   "metadata": {},
   "source": [
    "The first change is we'll perform a strict `grid_search` on our hyperparameters, like we used in the previous lesson. Our hyperparameters are the learning rate, `lr`, and the `momentum`."
   ]
  },
  {
   "cell_type": "code",
   "execution_count": 12,
   "metadata": {},
   "outputs": [],
   "source": [
    "config = {\n",
    "    \"lr\": tune.grid_search([0.001, 0.01, 0.1]),\n",
    "    \"momentum\": tune.grid_search([0.001, 0.01, 0.1, 0.9])\n",
    "}"
   ]
  },
  {
   "cell_type": "markdown",
   "metadata": {},
   "source": [
    "Next we modify our trainable, `train_mnist`, to use Tune's \"reporting\" logger:"
   ]
  },
  {
   "cell_type": "code",
   "execution_count": 13,
   "metadata": {},
   "outputs": [],
   "source": [
    "def train_mnist(config):\n",
    "    from ray.tune import report\n",
    "    train_loader, test_loader = get_data_loaders()\n",
    "    model = ConvNet()\n",
    "    optimizer = optim.SGD(model.parameters(), lr=config[\"lr\"], momentum=config['momentum'])\n",
    "    for i in range(10):\n",
    "        train(model, optimizer, train_loader)\n",
    "        acc = test(model, test_loader)\n",
    "        # This sends the score to Tune.\n",
    "        report(mean_accuracy=acc)"
   ]
  },
  {
   "cell_type": "markdown",
   "metadata": {},
   "source": [
    "That's all that we need to change in order for Ray Tune to be able to parallelize our different hyperparameter combinations. \n",
    "\n",
    "When we execute a hyperparameter sweep, we perform an **experiment**. Each distinct combination of our different hyperparameters constitutes a single **trial**."
   ]
  },
  {
   "cell_type": "markdown",
   "metadata": {},
   "source": [
    "## Tune's Functional vs. Class API\n",
    "\n",
    "In the above previous lesson, we used the **functional API**. This API is most convenient for quickly setting up experiments, but it provides less overall flexbility compared to the **class API** [`tune.Trainable`](https://docs.ray.io/en/latest/tune/api_docs/trainable.html#tune-trainable).\n",
    "\n",
    "We'll try both, starting with the functional API.\n",
    "\n",
    "We add a stopping criterion, `stop={\"training_iteration\": 20}`, so this will go reasonably quickly, while still producing good results. Consider removing this condition if you don't mind waiting longer and you want optimal results.\n",
    "\n",
    "**Note**: Unlike the functional API, in which you the trainable can call a `tune.report()`, the class API method `cls.step()` can only return a value."
   ]
  },
  {
   "cell_type": "code",
   "execution_count": 15,
   "metadata": {
    "scrolled": true
   },
   "outputs": [
    {
     "data": {
      "text/html": [
       "== Status ==<br>Current time: 2022-03-16 16:08:03 (running for 00:00:09.63)<br>Memory usage on this node: 15.9/32.0 GiB<br>Using FIFO scheduling algorithm.<br>Resources requested: 0/12 CPUs, 0/0 GPUs, 0.0/12.65 GiB heap, 0.0/2.0 GiB objects<br>Result logdir: /Users/jules/ray_results/train_mnist_2022-03-16_16-07-53<br>Number of trials: 12/12 (12 TERMINATED)<br><br>"
      ],
      "text/plain": [
       "<IPython.core.display.HTML object>"
      ]
     },
     "metadata": {},
     "output_type": "display_data"
    },
    {
     "name": "stderr",
     "output_type": "stream",
     "text": [
      "2022-03-16 16:08:03,116\tINFO tune.py:639 -- Total run time: 9.76 seconds (9.62 seconds for the tuning loop).\n"
     ]
    },
    {
     "name": "stdout",
     "output_type": "stream",
     "text": [
      "CPU times: user 1.96 s, sys: 443 ms, total: 2.4 s\n",
      "Wall time: 9.8 s\n"
     ]
    }
   ],
   "source": [
    "%%time\n",
    "analysis_func = tune.run(train_mnist, config=config, stop={\"training_iteration\": 20},\n",
    "                         verbose=1)"
   ]
  },
  {
   "cell_type": "code",
   "execution_count": 16,
   "metadata": {},
   "outputs": [
    {
     "name": "stdout",
     "output_type": "stream",
     "text": [
      "Best config:  {'lr': 0.1, 'momentum': 0.9}\n"
     ]
    }
   ],
   "source": [
    "print(\"Best config: \", analysis_func.get_best_config(metric=\"mean_accuracy\", mode=\"max\"))"
   ]
  },
  {
   "cell_type": "code",
   "execution_count": 17,
   "metadata": {},
   "outputs": [
    {
     "data": {
      "text/html": [
       "<div>\n",
       "<style scoped>\n",
       "    .dataframe tbody tr th:only-of-type {\n",
       "        vertical-align: middle;\n",
       "    }\n",
       "\n",
       "    .dataframe tbody tr th {\n",
       "        vertical-align: top;\n",
       "    }\n",
       "\n",
       "    .dataframe thead th {\n",
       "        text-align: right;\n",
       "    }\n",
       "</style>\n",
       "<table border=\"1\" class=\"dataframe\">\n",
       "  <thead>\n",
       "    <tr style=\"text-align: right;\">\n",
       "      <th></th>\n",
       "      <th>mean_accuracy</th>\n",
       "      <th>time_this_iter_s</th>\n",
       "      <th>done</th>\n",
       "      <th>timesteps_total</th>\n",
       "      <th>episodes_total</th>\n",
       "      <th>training_iteration</th>\n",
       "      <th>trial_id</th>\n",
       "      <th>experiment_id</th>\n",
       "      <th>date</th>\n",
       "      <th>timestamp</th>\n",
       "      <th>time_total_s</th>\n",
       "      <th>pid</th>\n",
       "      <th>hostname</th>\n",
       "      <th>node_ip</th>\n",
       "      <th>time_since_restore</th>\n",
       "      <th>timesteps_since_restore</th>\n",
       "      <th>iterations_since_restore</th>\n",
       "      <th>config/lr</th>\n",
       "      <th>config/momentum</th>\n",
       "      <th>logdir</th>\n",
       "    </tr>\n",
       "  </thead>\n",
       "  <tbody>\n",
       "    <tr>\n",
       "      <th>11</th>\n",
       "      <td>0.925000</td>\n",
       "      <td>0.189417</td>\n",
       "      <td>False</td>\n",
       "      <td>NaN</td>\n",
       "      <td>NaN</td>\n",
       "      <td>10</td>\n",
       "      <td>e89bd_00011</td>\n",
       "      <td>bc3fdff939df4138b5fa96ced1456ed5</td>\n",
       "      <td>2022-03-16_16-08-02</td>\n",
       "      <td>1647472082</td>\n",
       "      <td>3.927645</td>\n",
       "      <td>59733</td>\n",
       "      <td>Juless-MacBook-Pro-16-inch-2019</td>\n",
       "      <td>127.0.0.1</td>\n",
       "      <td>3.927645</td>\n",
       "      <td>0</td>\n",
       "      <td>10</td>\n",
       "      <td>0.10</td>\n",
       "      <td>0.900</td>\n",
       "      <td>/Users/jules/ray_results/train_mnist_2022-03-1...</td>\n",
       "    </tr>\n",
       "    <tr>\n",
       "      <th>8</th>\n",
       "      <td>0.912500</td>\n",
       "      <td>0.249835</td>\n",
       "      <td>False</td>\n",
       "      <td>NaN</td>\n",
       "      <td>NaN</td>\n",
       "      <td>10</td>\n",
       "      <td>e89bd_00008</td>\n",
       "      <td>a985488b7ece464d9f05caf2c0c82b5f</td>\n",
       "      <td>2022-03-16_16-08-02</td>\n",
       "      <td>1647472082</td>\n",
       "      <td>4.740164</td>\n",
       "      <td>59713</td>\n",
       "      <td>Juless-MacBook-Pro-16-inch-2019</td>\n",
       "      <td>127.0.0.1</td>\n",
       "      <td>4.740164</td>\n",
       "      <td>0</td>\n",
       "      <td>10</td>\n",
       "      <td>0.10</td>\n",
       "      <td>0.100</td>\n",
       "      <td>/Users/jules/ray_results/train_mnist_2022-03-1...</td>\n",
       "    </tr>\n",
       "    <tr>\n",
       "      <th>2</th>\n",
       "      <td>0.862500</td>\n",
       "      <td>0.288845</td>\n",
       "      <td>False</td>\n",
       "      <td>NaN</td>\n",
       "      <td>NaN</td>\n",
       "      <td>10</td>\n",
       "      <td>e89bd_00002</td>\n",
       "      <td>5d1a6afd211d48768e5a45822aac051e</td>\n",
       "      <td>2022-03-16_16-08-02</td>\n",
       "      <td>1647472082</td>\n",
       "      <td>4.531698</td>\n",
       "      <td>59716</td>\n",
       "      <td>Juless-MacBook-Pro-16-inch-2019</td>\n",
       "      <td>127.0.0.1</td>\n",
       "      <td>4.531698</td>\n",
       "      <td>0</td>\n",
       "      <td>10</td>\n",
       "      <td>0.10</td>\n",
       "      <td>0.001</td>\n",
       "      <td>/Users/jules/ray_results/train_mnist_2022-03-1...</td>\n",
       "    </tr>\n",
       "    <tr>\n",
       "      <th>10</th>\n",
       "      <td>0.862500</td>\n",
       "      <td>0.176915</td>\n",
       "      <td>False</td>\n",
       "      <td>NaN</td>\n",
       "      <td>NaN</td>\n",
       "      <td>10</td>\n",
       "      <td>e89bd_00010</td>\n",
       "      <td>3f62f2ae811c43afbe3d7ad9314c28de</td>\n",
       "      <td>2022-03-16_16-08-02</td>\n",
       "      <td>1647472082</td>\n",
       "      <td>5.008541</td>\n",
       "      <td>59709</td>\n",
       "      <td>Juless-MacBook-Pro-16-inch-2019</td>\n",
       "      <td>127.0.0.1</td>\n",
       "      <td>5.008541</td>\n",
       "      <td>0</td>\n",
       "      <td>10</td>\n",
       "      <td>0.01</td>\n",
       "      <td>0.900</td>\n",
       "      <td>/Users/jules/ray_results/train_mnist_2022-03-1...</td>\n",
       "    </tr>\n",
       "    <tr>\n",
       "      <th>5</th>\n",
       "      <td>0.828125</td>\n",
       "      <td>0.241335</td>\n",
       "      <td>False</td>\n",
       "      <td>NaN</td>\n",
       "      <td>NaN</td>\n",
       "      <td>10</td>\n",
       "      <td>e89bd_00005</td>\n",
       "      <td>9a94566af3d840279d126911c843a47e</td>\n",
       "      <td>2022-03-16_16-08-02</td>\n",
       "      <td>1647472082</td>\n",
       "      <td>4.790111</td>\n",
       "      <td>59711</td>\n",
       "      <td>Juless-MacBook-Pro-16-inch-2019</td>\n",
       "      <td>127.0.0.1</td>\n",
       "      <td>4.790111</td>\n",
       "      <td>0</td>\n",
       "      <td>10</td>\n",
       "      <td>0.10</td>\n",
       "      <td>0.010</td>\n",
       "      <td>/Users/jules/ray_results/train_mnist_2022-03-1...</td>\n",
       "    </tr>\n",
       "  </tbody>\n",
       "</table>\n",
       "</div>"
      ],
      "text/plain": [
       "    mean_accuracy  time_this_iter_s   done  timesteps_total  episodes_total  \\\n",
       "11       0.925000          0.189417  False              NaN             NaN   \n",
       "8        0.912500          0.249835  False              NaN             NaN   \n",
       "2        0.862500          0.288845  False              NaN             NaN   \n",
       "10       0.862500          0.176915  False              NaN             NaN   \n",
       "5        0.828125          0.241335  False              NaN             NaN   \n",
       "\n",
       "    training_iteration     trial_id                     experiment_id  \\\n",
       "11                  10  e89bd_00011  bc3fdff939df4138b5fa96ced1456ed5   \n",
       "8                   10  e89bd_00008  a985488b7ece464d9f05caf2c0c82b5f   \n",
       "2                   10  e89bd_00002  5d1a6afd211d48768e5a45822aac051e   \n",
       "10                  10  e89bd_00010  3f62f2ae811c43afbe3d7ad9314c28de   \n",
       "5                   10  e89bd_00005  9a94566af3d840279d126911c843a47e   \n",
       "\n",
       "                   date   timestamp  time_total_s    pid  \\\n",
       "11  2022-03-16_16-08-02  1647472082      3.927645  59733   \n",
       "8   2022-03-16_16-08-02  1647472082      4.740164  59713   \n",
       "2   2022-03-16_16-08-02  1647472082      4.531698  59716   \n",
       "10  2022-03-16_16-08-02  1647472082      5.008541  59709   \n",
       "5   2022-03-16_16-08-02  1647472082      4.790111  59711   \n",
       "\n",
       "                           hostname    node_ip  time_since_restore  \\\n",
       "11  Juless-MacBook-Pro-16-inch-2019  127.0.0.1            3.927645   \n",
       "8   Juless-MacBook-Pro-16-inch-2019  127.0.0.1            4.740164   \n",
       "2   Juless-MacBook-Pro-16-inch-2019  127.0.0.1            4.531698   \n",
       "10  Juless-MacBook-Pro-16-inch-2019  127.0.0.1            5.008541   \n",
       "5   Juless-MacBook-Pro-16-inch-2019  127.0.0.1            4.790111   \n",
       "\n",
       "    timesteps_since_restore  iterations_since_restore  config/lr  \\\n",
       "11                        0                        10       0.10   \n",
       "8                         0                        10       0.10   \n",
       "2                         0                        10       0.10   \n",
       "10                        0                        10       0.01   \n",
       "5                         0                        10       0.10   \n",
       "\n",
       "    config/momentum                                             logdir  \n",
       "11            0.900  /Users/jules/ray_results/train_mnist_2022-03-1...  \n",
       "8             0.100  /Users/jules/ray_results/train_mnist_2022-03-1...  \n",
       "2             0.001  /Users/jules/ray_results/train_mnist_2022-03-1...  \n",
       "10            0.900  /Users/jules/ray_results/train_mnist_2022-03-1...  \n",
       "5             0.010  /Users/jules/ray_results/train_mnist_2022-03-1...  "
      ]
     },
     "execution_count": 17,
     "metadata": {},
     "output_type": "execute_result"
    }
   ],
   "source": [
    "analysis_func.dataframe().sort_values('mean_accuracy', ascending=False).head()"
   ]
  },
  {
   "cell_type": "code",
   "execution_count": 18,
   "metadata": {},
   "outputs": [
    {
     "data": {
      "text/html": [
       "<div>\n",
       "<style scoped>\n",
       "    .dataframe tbody tr th:only-of-type {\n",
       "        vertical-align: middle;\n",
       "    }\n",
       "\n",
       "    .dataframe tbody tr th {\n",
       "        vertical-align: top;\n",
       "    }\n",
       "\n",
       "    .dataframe thead th {\n",
       "        text-align: right;\n",
       "    }\n",
       "</style>\n",
       "<table border=\"1\" class=\"dataframe\">\n",
       "  <thead>\n",
       "    <tr style=\"text-align: right;\">\n",
       "      <th></th>\n",
       "      <th>mean_accuracy</th>\n",
       "      <th>config/lr</th>\n",
       "      <th>config/momentum</th>\n",
       "    </tr>\n",
       "  </thead>\n",
       "  <tbody>\n",
       "    <tr>\n",
       "      <th>11</th>\n",
       "      <td>0.925000</td>\n",
       "      <td>0.100</td>\n",
       "      <td>0.900</td>\n",
       "    </tr>\n",
       "    <tr>\n",
       "      <th>8</th>\n",
       "      <td>0.912500</td>\n",
       "      <td>0.100</td>\n",
       "      <td>0.100</td>\n",
       "    </tr>\n",
       "    <tr>\n",
       "      <th>2</th>\n",
       "      <td>0.862500</td>\n",
       "      <td>0.100</td>\n",
       "      <td>0.001</td>\n",
       "    </tr>\n",
       "    <tr>\n",
       "      <th>10</th>\n",
       "      <td>0.862500</td>\n",
       "      <td>0.010</td>\n",
       "      <td>0.900</td>\n",
       "    </tr>\n",
       "    <tr>\n",
       "      <th>5</th>\n",
       "      <td>0.828125</td>\n",
       "      <td>0.100</td>\n",
       "      <td>0.010</td>\n",
       "    </tr>\n",
       "    <tr>\n",
       "      <th>7</th>\n",
       "      <td>0.759375</td>\n",
       "      <td>0.010</td>\n",
       "      <td>0.100</td>\n",
       "    </tr>\n",
       "    <tr>\n",
       "      <th>4</th>\n",
       "      <td>0.753125</td>\n",
       "      <td>0.010</td>\n",
       "      <td>0.010</td>\n",
       "    </tr>\n",
       "    <tr>\n",
       "      <th>9</th>\n",
       "      <td>0.743750</td>\n",
       "      <td>0.001</td>\n",
       "      <td>0.900</td>\n",
       "    </tr>\n",
       "    <tr>\n",
       "      <th>1</th>\n",
       "      <td>0.603125</td>\n",
       "      <td>0.010</td>\n",
       "      <td>0.001</td>\n",
       "    </tr>\n",
       "    <tr>\n",
       "      <th>6</th>\n",
       "      <td>0.231250</td>\n",
       "      <td>0.001</td>\n",
       "      <td>0.100</td>\n",
       "    </tr>\n",
       "    <tr>\n",
       "      <th>0</th>\n",
       "      <td>0.143750</td>\n",
       "      <td>0.001</td>\n",
       "      <td>0.001</td>\n",
       "    </tr>\n",
       "    <tr>\n",
       "      <th>3</th>\n",
       "      <td>0.093750</td>\n",
       "      <td>0.001</td>\n",
       "      <td>0.010</td>\n",
       "    </tr>\n",
       "  </tbody>\n",
       "</table>\n",
       "</div>"
      ],
      "text/plain": [
       "    mean_accuracy  config/lr  config/momentum\n",
       "11       0.925000      0.100            0.900\n",
       "8        0.912500      0.100            0.100\n",
       "2        0.862500      0.100            0.001\n",
       "10       0.862500      0.010            0.900\n",
       "5        0.828125      0.100            0.010\n",
       "7        0.759375      0.010            0.100\n",
       "4        0.753125      0.010            0.010\n",
       "9        0.743750      0.001            0.900\n",
       "1        0.603125      0.010            0.001\n",
       "6        0.231250      0.001            0.100\n",
       "0        0.143750      0.001            0.001\n",
       "3        0.093750      0.001            0.010"
      ]
     },
     "execution_count": 18,
     "metadata": {},
     "output_type": "execute_result"
    }
   ],
   "source": [
    "analysis_func.dataframe()[['mean_accuracy', 'config/lr', 'config/momentum']].sort_values('mean_accuracy', ascending=False)"
   ]
  },
  {
   "cell_type": "markdown",
   "metadata": {},
   "source": [
    "How long did it take? We'll compare this value with a different training run in the next lesson."
   ]
  },
  {
   "cell_type": "code",
   "execution_count": 19,
   "metadata": {},
   "outputs": [
    {
     "name": "stdout",
     "output_type": "stream",
     "text": [
      "   0.17 seconds,    0.00 minutes\n"
     ]
    }
   ],
   "source": [
    "stats = analysis_func.stats()\n",
    "secs = stats[\"timestamp\"] - stats[\"start_time\"]\n",
    "print(f'{secs:7.2f} seconds, {secs/60.0:7.2f} minutes')"
   ]
  },
  {
   "cell_type": "markdown",
   "metadata": {},
   "source": [
    "### Use Tune's Trainable Class API"
   ]
  },
  {
   "cell_type": "markdown",
   "metadata": {},
   "source": [
    "As a subclass of `tune.Trainable`, Tune will create a Trainable object on a separate process (using the [Ray Actor API](https://docs.ray.io/en/latest/actors.html#actor-guide)).\n",
    "\n",
    " * setup function is invoked once training starts.\n",
    " * step is invoked multiple times. Each time, the Trainable object executes one logical iteration of training in the tuning process, which may include one or more iterations of actual training.\n"
   ]
  },
  {
   "cell_type": "code",
   "execution_count": 20,
   "metadata": {},
   "outputs": [],
   "source": [
    "class TrainMNIST(tune.Trainable):\n",
    "    def setup(self, config):\n",
    "        self.config = config\n",
    "        self.train_loader, self.test_loader = get_data_loaders()\n",
    "        self.model = ConvNet()\n",
    "        self.optimizer = optim.SGD(self.model.parameters(), lr=self.config[\"lr\"])\n",
    "    \n",
    "    def step(self):\n",
    "        train(self.model, self.optimizer, self.train_loader)\n",
    "        acc = test(self.model, self.test_loader)\n",
    "        return {\"mean_accuracy\": acc}"
   ]
  },
  {
   "cell_type": "code",
   "execution_count": 21,
   "metadata": {
    "scrolled": true
   },
   "outputs": [
    {
     "data": {
      "text/html": [
       "== Status ==<br>Current time: 2022-03-16 16:08:37 (running for 00:00:12.16)<br>Memory usage on this node: 17.9/32.0 GiB<br>Using FIFO scheduling algorithm.<br>Resources requested: 0/12 CPUs, 0/0 GPUs, 0.0/12.65 GiB heap, 0.0/2.0 GiB objects<br>Result logdir: /Users/jules/ray_results/TrainMNIST_2022-03-16_16-08-24<br>Number of trials: 12/12 (12 TERMINATED)<br><br>"
      ],
      "text/plain": [
       "<IPython.core.display.HTML object>"
      ]
     },
     "metadata": {},
     "output_type": "display_data"
    },
    {
     "name": "stderr",
     "output_type": "stream",
     "text": [
      "2022-03-16 16:08:37,211\tINFO tune.py:639 -- Total run time: 12.28 seconds (12.14 seconds for the tuning loop).\n"
     ]
    },
    {
     "name": "stdout",
     "output_type": "stream",
     "text": [
      "CPU times: user 2.43 s, sys: 529 ms, total: 2.96 s\n",
      "Wall time: 12.3 s\n"
     ]
    }
   ],
   "source": [
    "%%time\n",
    "analysis = tune.run(\n",
    "    TrainMNIST, \n",
    "    config=config,\n",
    "    stop={\"training_iteration\": 20},\n",
    "    verbose=1\n",
    ")"
   ]
  },
  {
   "cell_type": "code",
   "execution_count": 22,
   "metadata": {},
   "outputs": [
    {
     "name": "stdout",
     "output_type": "stream",
     "text": [
      "Best config:  {'lr': 0.1, 'momentum': 0.01}\n"
     ]
    }
   ],
   "source": [
    "print(\"Best config: \", analysis.get_best_config(metric=\"mean_accuracy\", mode=\"max\"))"
   ]
  },
  {
   "cell_type": "code",
   "execution_count": 23,
   "metadata": {},
   "outputs": [
    {
     "data": {
      "text/html": [
       "<div>\n",
       "<style scoped>\n",
       "    .dataframe tbody tr th:only-of-type {\n",
       "        vertical-align: middle;\n",
       "    }\n",
       "\n",
       "    .dataframe tbody tr th {\n",
       "        vertical-align: top;\n",
       "    }\n",
       "\n",
       "    .dataframe thead th {\n",
       "        text-align: right;\n",
       "    }\n",
       "</style>\n",
       "<table border=\"1\" class=\"dataframe\">\n",
       "  <thead>\n",
       "    <tr style=\"text-align: right;\">\n",
       "      <th></th>\n",
       "      <th>mean_accuracy</th>\n",
       "      <th>done</th>\n",
       "      <th>timesteps_total</th>\n",
       "      <th>episodes_total</th>\n",
       "      <th>training_iteration</th>\n",
       "      <th>trial_id</th>\n",
       "      <th>experiment_id</th>\n",
       "      <th>date</th>\n",
       "      <th>timestamp</th>\n",
       "      <th>time_this_iter_s</th>\n",
       "      <th>time_total_s</th>\n",
       "      <th>pid</th>\n",
       "      <th>hostname</th>\n",
       "      <th>node_ip</th>\n",
       "      <th>time_since_restore</th>\n",
       "      <th>timesteps_since_restore</th>\n",
       "      <th>iterations_since_restore</th>\n",
       "      <th>config/lr</th>\n",
       "      <th>config/momentum</th>\n",
       "      <th>logdir</th>\n",
       "    </tr>\n",
       "  </thead>\n",
       "  <tbody>\n",
       "    <tr>\n",
       "      <th>0</th>\n",
       "      <td>0.481250</td>\n",
       "      <td>True</td>\n",
       "      <td>NaN</td>\n",
       "      <td>NaN</td>\n",
       "      <td>20</td>\n",
       "      <td>fb6d9_00000</td>\n",
       "      <td>73230a5195ab42e1a161f7a9f65c0ce0</td>\n",
       "      <td>2022-03-16_16-08-36</td>\n",
       "      <td>1647472116</td>\n",
       "      <td>0.275424</td>\n",
       "      <td>5.515932</td>\n",
       "      <td>59813</td>\n",
       "      <td>Juless-MacBook-Pro-16-inch-2019</td>\n",
       "      <td>127.0.0.1</td>\n",
       "      <td>5.515932</td>\n",
       "      <td>0</td>\n",
       "      <td>20</td>\n",
       "      <td>0.001</td>\n",
       "      <td>0.001</td>\n",
       "      <td>/Users/jules/ray_results/TrainMNIST_2022-03-16...</td>\n",
       "    </tr>\n",
       "    <tr>\n",
       "      <th>1</th>\n",
       "      <td>0.825000</td>\n",
       "      <td>True</td>\n",
       "      <td>NaN</td>\n",
       "      <td>NaN</td>\n",
       "      <td>20</td>\n",
       "      <td>fb6d9_00001</td>\n",
       "      <td>bbfcd25b039a477bbf17147ce72686dd</td>\n",
       "      <td>2022-03-16_16-08-36</td>\n",
       "      <td>1647472116</td>\n",
       "      <td>0.274208</td>\n",
       "      <td>5.332833</td>\n",
       "      <td>59817</td>\n",
       "      <td>Juless-MacBook-Pro-16-inch-2019</td>\n",
       "      <td>127.0.0.1</td>\n",
       "      <td>5.332833</td>\n",
       "      <td>0</td>\n",
       "      <td>20</td>\n",
       "      <td>0.010</td>\n",
       "      <td>0.001</td>\n",
       "      <td>/Users/jules/ray_results/TrainMNIST_2022-03-16...</td>\n",
       "    </tr>\n",
       "    <tr>\n",
       "      <th>2</th>\n",
       "      <td>0.890625</td>\n",
       "      <td>True</td>\n",
       "      <td>NaN</td>\n",
       "      <td>NaN</td>\n",
       "      <td>20</td>\n",
       "      <td>fb6d9_00002</td>\n",
       "      <td>7d2c226f1e76443e95da34646a215ce1</td>\n",
       "      <td>2022-03-16_16-08-36</td>\n",
       "      <td>1647472116</td>\n",
       "      <td>0.254596</td>\n",
       "      <td>5.547505</td>\n",
       "      <td>59816</td>\n",
       "      <td>Juless-MacBook-Pro-16-inch-2019</td>\n",
       "      <td>127.0.0.1</td>\n",
       "      <td>5.547505</td>\n",
       "      <td>0</td>\n",
       "      <td>20</td>\n",
       "      <td>0.100</td>\n",
       "      <td>0.001</td>\n",
       "      <td>/Users/jules/ray_results/TrainMNIST_2022-03-16...</td>\n",
       "    </tr>\n",
       "    <tr>\n",
       "      <th>3</th>\n",
       "      <td>0.203125</td>\n",
       "      <td>True</td>\n",
       "      <td>NaN</td>\n",
       "      <td>NaN</td>\n",
       "      <td>20</td>\n",
       "      <td>fb6d9_00003</td>\n",
       "      <td>324c4693660c4ea3b8ae19782915ad90</td>\n",
       "      <td>2022-03-16_16-08-36</td>\n",
       "      <td>1647472116</td>\n",
       "      <td>0.272964</td>\n",
       "      <td>5.489140</td>\n",
       "      <td>59819</td>\n",
       "      <td>Juless-MacBook-Pro-16-inch-2019</td>\n",
       "      <td>127.0.0.1</td>\n",
       "      <td>5.489140</td>\n",
       "      <td>0</td>\n",
       "      <td>20</td>\n",
       "      <td>0.001</td>\n",
       "      <td>0.010</td>\n",
       "      <td>/Users/jules/ray_results/TrainMNIST_2022-03-16...</td>\n",
       "    </tr>\n",
       "    <tr>\n",
       "      <th>4</th>\n",
       "      <td>0.803125</td>\n",
       "      <td>True</td>\n",
       "      <td>NaN</td>\n",
       "      <td>NaN</td>\n",
       "      <td>20</td>\n",
       "      <td>fb6d9_00004</td>\n",
       "      <td>fccbb38ac63743fb86723edb5bc485c2</td>\n",
       "      <td>2022-03-16_16-08-36</td>\n",
       "      <td>1647472116</td>\n",
       "      <td>0.253441</td>\n",
       "      <td>5.469929</td>\n",
       "      <td>59821</td>\n",
       "      <td>Juless-MacBook-Pro-16-inch-2019</td>\n",
       "      <td>127.0.0.1</td>\n",
       "      <td>5.469929</td>\n",
       "      <td>0</td>\n",
       "      <td>20</td>\n",
       "      <td>0.010</td>\n",
       "      <td>0.010</td>\n",
       "      <td>/Users/jules/ray_results/TrainMNIST_2022-03-16...</td>\n",
       "    </tr>\n",
       "  </tbody>\n",
       "</table>\n",
       "</div>"
      ],
      "text/plain": [
       "   mean_accuracy  done  timesteps_total  episodes_total  training_iteration  \\\n",
       "0       0.481250  True              NaN             NaN                  20   \n",
       "1       0.825000  True              NaN             NaN                  20   \n",
       "2       0.890625  True              NaN             NaN                  20   \n",
       "3       0.203125  True              NaN             NaN                  20   \n",
       "4       0.803125  True              NaN             NaN                  20   \n",
       "\n",
       "      trial_id                     experiment_id                 date  \\\n",
       "0  fb6d9_00000  73230a5195ab42e1a161f7a9f65c0ce0  2022-03-16_16-08-36   \n",
       "1  fb6d9_00001  bbfcd25b039a477bbf17147ce72686dd  2022-03-16_16-08-36   \n",
       "2  fb6d9_00002  7d2c226f1e76443e95da34646a215ce1  2022-03-16_16-08-36   \n",
       "3  fb6d9_00003  324c4693660c4ea3b8ae19782915ad90  2022-03-16_16-08-36   \n",
       "4  fb6d9_00004  fccbb38ac63743fb86723edb5bc485c2  2022-03-16_16-08-36   \n",
       "\n",
       "    timestamp  time_this_iter_s  time_total_s    pid  \\\n",
       "0  1647472116          0.275424      5.515932  59813   \n",
       "1  1647472116          0.274208      5.332833  59817   \n",
       "2  1647472116          0.254596      5.547505  59816   \n",
       "3  1647472116          0.272964      5.489140  59819   \n",
       "4  1647472116          0.253441      5.469929  59821   \n",
       "\n",
       "                          hostname    node_ip  time_since_restore  \\\n",
       "0  Juless-MacBook-Pro-16-inch-2019  127.0.0.1            5.515932   \n",
       "1  Juless-MacBook-Pro-16-inch-2019  127.0.0.1            5.332833   \n",
       "2  Juless-MacBook-Pro-16-inch-2019  127.0.0.1            5.547505   \n",
       "3  Juless-MacBook-Pro-16-inch-2019  127.0.0.1            5.489140   \n",
       "4  Juless-MacBook-Pro-16-inch-2019  127.0.0.1            5.469929   \n",
       "\n",
       "   timesteps_since_restore  iterations_since_restore  config/lr  \\\n",
       "0                        0                        20      0.001   \n",
       "1                        0                        20      0.010   \n",
       "2                        0                        20      0.100   \n",
       "3                        0                        20      0.001   \n",
       "4                        0                        20      0.010   \n",
       "\n",
       "   config/momentum                                             logdir  \n",
       "0            0.001  /Users/jules/ray_results/TrainMNIST_2022-03-16...  \n",
       "1            0.001  /Users/jules/ray_results/TrainMNIST_2022-03-16...  \n",
       "2            0.001  /Users/jules/ray_results/TrainMNIST_2022-03-16...  \n",
       "3            0.010  /Users/jules/ray_results/TrainMNIST_2022-03-16...  \n",
       "4            0.010  /Users/jules/ray_results/TrainMNIST_2022-03-16...  "
      ]
     },
     "execution_count": 23,
     "metadata": {},
     "output_type": "execute_result"
    }
   ],
   "source": [
    "# Get a dataframe for analyzing trial results.\n",
    "df = analysis.dataframe()\n",
    "df.head()"
   ]
  },
  {
   "cell_type": "code",
   "execution_count": 24,
   "metadata": {},
   "outputs": [
    {
     "data": {
      "text/html": [
       "<div>\n",
       "<style scoped>\n",
       "    .dataframe tbody tr th:only-of-type {\n",
       "        vertical-align: middle;\n",
       "    }\n",
       "\n",
       "    .dataframe tbody tr th {\n",
       "        vertical-align: top;\n",
       "    }\n",
       "\n",
       "    .dataframe thead th {\n",
       "        text-align: right;\n",
       "    }\n",
       "</style>\n",
       "<table border=\"1\" class=\"dataframe\">\n",
       "  <thead>\n",
       "    <tr style=\"text-align: right;\">\n",
       "      <th></th>\n",
       "      <th>mean_accuracy</th>\n",
       "      <th>done</th>\n",
       "      <th>timesteps_total</th>\n",
       "      <th>episodes_total</th>\n",
       "      <th>training_iteration</th>\n",
       "      <th>trial_id</th>\n",
       "      <th>experiment_id</th>\n",
       "      <th>date</th>\n",
       "      <th>timestamp</th>\n",
       "      <th>time_this_iter_s</th>\n",
       "      <th>time_total_s</th>\n",
       "      <th>pid</th>\n",
       "      <th>hostname</th>\n",
       "      <th>node_ip</th>\n",
       "      <th>time_since_restore</th>\n",
       "      <th>timesteps_since_restore</th>\n",
       "      <th>iterations_since_restore</th>\n",
       "      <th>config/lr</th>\n",
       "      <th>config/momentum</th>\n",
       "      <th>logdir</th>\n",
       "    </tr>\n",
       "  </thead>\n",
       "  <tbody>\n",
       "    <tr>\n",
       "      <th>5</th>\n",
       "      <td>0.931250</td>\n",
       "      <td>True</td>\n",
       "      <td>NaN</td>\n",
       "      <td>NaN</td>\n",
       "      <td>20</td>\n",
       "      <td>fb6d9_00005</td>\n",
       "      <td>e4276e94428d4bcba9df31e6501f5712</td>\n",
       "      <td>2022-03-16_16-08-36</td>\n",
       "      <td>1647472116</td>\n",
       "      <td>0.274690</td>\n",
       "      <td>5.549835</td>\n",
       "      <td>59820</td>\n",
       "      <td>Juless-MacBook-Pro-16-inch-2019</td>\n",
       "      <td>127.0.0.1</td>\n",
       "      <td>5.549835</td>\n",
       "      <td>0</td>\n",
       "      <td>20</td>\n",
       "      <td>0.10</td>\n",
       "      <td>0.010</td>\n",
       "      <td>/Users/jules/ray_results/TrainMNIST_2022-03-16...</td>\n",
       "    </tr>\n",
       "    <tr>\n",
       "      <th>11</th>\n",
       "      <td>0.931250</td>\n",
       "      <td>True</td>\n",
       "      <td>NaN</td>\n",
       "      <td>NaN</td>\n",
       "      <td>20</td>\n",
       "      <td>fb6d9_00011</td>\n",
       "      <td>f6a6cb77c8d447c4a9e5cb6d9c3bf1c8</td>\n",
       "      <td>2022-03-16_16-08-36</td>\n",
       "      <td>1647472116</td>\n",
       "      <td>0.281194</td>\n",
       "      <td>5.506077</td>\n",
       "      <td>59834</td>\n",
       "      <td>Juless-MacBook-Pro-16-inch-2019</td>\n",
       "      <td>127.0.0.1</td>\n",
       "      <td>5.506077</td>\n",
       "      <td>0</td>\n",
       "      <td>20</td>\n",
       "      <td>0.10</td>\n",
       "      <td>0.900</td>\n",
       "      <td>/Users/jules/ray_results/TrainMNIST_2022-03-16...</td>\n",
       "    </tr>\n",
       "    <tr>\n",
       "      <th>8</th>\n",
       "      <td>0.925000</td>\n",
       "      <td>True</td>\n",
       "      <td>NaN</td>\n",
       "      <td>NaN</td>\n",
       "      <td>20</td>\n",
       "      <td>fb6d9_00008</td>\n",
       "      <td>7ae81f0ab99645138b1bd295816a1632</td>\n",
       "      <td>2022-03-16_16-08-36</td>\n",
       "      <td>1647472116</td>\n",
       "      <td>0.276365</td>\n",
       "      <td>5.507662</td>\n",
       "      <td>59815</td>\n",
       "      <td>Juless-MacBook-Pro-16-inch-2019</td>\n",
       "      <td>127.0.0.1</td>\n",
       "      <td>5.507662</td>\n",
       "      <td>0</td>\n",
       "      <td>20</td>\n",
       "      <td>0.10</td>\n",
       "      <td>0.100</td>\n",
       "      <td>/Users/jules/ray_results/TrainMNIST_2022-03-16...</td>\n",
       "    </tr>\n",
       "    <tr>\n",
       "      <th>2</th>\n",
       "      <td>0.890625</td>\n",
       "      <td>True</td>\n",
       "      <td>NaN</td>\n",
       "      <td>NaN</td>\n",
       "      <td>20</td>\n",
       "      <td>fb6d9_00002</td>\n",
       "      <td>7d2c226f1e76443e95da34646a215ce1</td>\n",
       "      <td>2022-03-16_16-08-36</td>\n",
       "      <td>1647472116</td>\n",
       "      <td>0.254596</td>\n",
       "      <td>5.547505</td>\n",
       "      <td>59816</td>\n",
       "      <td>Juless-MacBook-Pro-16-inch-2019</td>\n",
       "      <td>127.0.0.1</td>\n",
       "      <td>5.547505</td>\n",
       "      <td>0</td>\n",
       "      <td>20</td>\n",
       "      <td>0.10</td>\n",
       "      <td>0.001</td>\n",
       "      <td>/Users/jules/ray_results/TrainMNIST_2022-03-16...</td>\n",
       "    </tr>\n",
       "    <tr>\n",
       "      <th>1</th>\n",
       "      <td>0.825000</td>\n",
       "      <td>True</td>\n",
       "      <td>NaN</td>\n",
       "      <td>NaN</td>\n",
       "      <td>20</td>\n",
       "      <td>fb6d9_00001</td>\n",
       "      <td>bbfcd25b039a477bbf17147ce72686dd</td>\n",
       "      <td>2022-03-16_16-08-36</td>\n",
       "      <td>1647472116</td>\n",
       "      <td>0.274208</td>\n",
       "      <td>5.332833</td>\n",
       "      <td>59817</td>\n",
       "      <td>Juless-MacBook-Pro-16-inch-2019</td>\n",
       "      <td>127.0.0.1</td>\n",
       "      <td>5.332833</td>\n",
       "      <td>0</td>\n",
       "      <td>20</td>\n",
       "      <td>0.01</td>\n",
       "      <td>0.001</td>\n",
       "      <td>/Users/jules/ray_results/TrainMNIST_2022-03-16...</td>\n",
       "    </tr>\n",
       "  </tbody>\n",
       "</table>\n",
       "</div>"
      ],
      "text/plain": [
       "    mean_accuracy  done  timesteps_total  episodes_total  training_iteration  \\\n",
       "5        0.931250  True              NaN             NaN                  20   \n",
       "11       0.931250  True              NaN             NaN                  20   \n",
       "8        0.925000  True              NaN             NaN                  20   \n",
       "2        0.890625  True              NaN             NaN                  20   \n",
       "1        0.825000  True              NaN             NaN                  20   \n",
       "\n",
       "       trial_id                     experiment_id                 date  \\\n",
       "5   fb6d9_00005  e4276e94428d4bcba9df31e6501f5712  2022-03-16_16-08-36   \n",
       "11  fb6d9_00011  f6a6cb77c8d447c4a9e5cb6d9c3bf1c8  2022-03-16_16-08-36   \n",
       "8   fb6d9_00008  7ae81f0ab99645138b1bd295816a1632  2022-03-16_16-08-36   \n",
       "2   fb6d9_00002  7d2c226f1e76443e95da34646a215ce1  2022-03-16_16-08-36   \n",
       "1   fb6d9_00001  bbfcd25b039a477bbf17147ce72686dd  2022-03-16_16-08-36   \n",
       "\n",
       "     timestamp  time_this_iter_s  time_total_s    pid  \\\n",
       "5   1647472116          0.274690      5.549835  59820   \n",
       "11  1647472116          0.281194      5.506077  59834   \n",
       "8   1647472116          0.276365      5.507662  59815   \n",
       "2   1647472116          0.254596      5.547505  59816   \n",
       "1   1647472116          0.274208      5.332833  59817   \n",
       "\n",
       "                           hostname    node_ip  time_since_restore  \\\n",
       "5   Juless-MacBook-Pro-16-inch-2019  127.0.0.1            5.549835   \n",
       "11  Juless-MacBook-Pro-16-inch-2019  127.0.0.1            5.506077   \n",
       "8   Juless-MacBook-Pro-16-inch-2019  127.0.0.1            5.507662   \n",
       "2   Juless-MacBook-Pro-16-inch-2019  127.0.0.1            5.547505   \n",
       "1   Juless-MacBook-Pro-16-inch-2019  127.0.0.1            5.332833   \n",
       "\n",
       "    timesteps_since_restore  iterations_since_restore  config/lr  \\\n",
       "5                         0                        20       0.10   \n",
       "11                        0                        20       0.10   \n",
       "8                         0                        20       0.10   \n",
       "2                         0                        20       0.10   \n",
       "1                         0                        20       0.01   \n",
       "\n",
       "    config/momentum                                             logdir  \n",
       "5             0.010  /Users/jules/ray_results/TrainMNIST_2022-03-16...  \n",
       "11            0.900  /Users/jules/ray_results/TrainMNIST_2022-03-16...  \n",
       "8             0.100  /Users/jules/ray_results/TrainMNIST_2022-03-16...  \n",
       "2             0.001  /Users/jules/ray_results/TrainMNIST_2022-03-16...  \n",
       "1             0.001  /Users/jules/ray_results/TrainMNIST_2022-03-16...  "
      ]
     },
     "execution_count": 24,
     "metadata": {},
     "output_type": "execute_result"
    }
   ],
   "source": [
    "analysis.dataframe().sort_values('mean_accuracy', ascending=False).head()"
   ]
  },
  {
   "cell_type": "markdown",
   "metadata": {},
   "source": [
    "It's easier to see what we want if project out the interesting columns:"
   ]
  },
  {
   "cell_type": "code",
   "execution_count": 25,
   "metadata": {},
   "outputs": [
    {
     "data": {
      "text/html": [
       "<div>\n",
       "<style scoped>\n",
       "    .dataframe tbody tr th:only-of-type {\n",
       "        vertical-align: middle;\n",
       "    }\n",
       "\n",
       "    .dataframe tbody tr th {\n",
       "        vertical-align: top;\n",
       "    }\n",
       "\n",
       "    .dataframe thead th {\n",
       "        text-align: right;\n",
       "    }\n",
       "</style>\n",
       "<table border=\"1\" class=\"dataframe\">\n",
       "  <thead>\n",
       "    <tr style=\"text-align: right;\">\n",
       "      <th></th>\n",
       "      <th>mean_accuracy</th>\n",
       "      <th>config/lr</th>\n",
       "      <th>config/momentum</th>\n",
       "    </tr>\n",
       "  </thead>\n",
       "  <tbody>\n",
       "    <tr>\n",
       "      <th>5</th>\n",
       "      <td>0.931250</td>\n",
       "      <td>0.100</td>\n",
       "      <td>0.010</td>\n",
       "    </tr>\n",
       "    <tr>\n",
       "      <th>11</th>\n",
       "      <td>0.931250</td>\n",
       "      <td>0.100</td>\n",
       "      <td>0.900</td>\n",
       "    </tr>\n",
       "    <tr>\n",
       "      <th>8</th>\n",
       "      <td>0.925000</td>\n",
       "      <td>0.100</td>\n",
       "      <td>0.100</td>\n",
       "    </tr>\n",
       "    <tr>\n",
       "      <th>2</th>\n",
       "      <td>0.890625</td>\n",
       "      <td>0.100</td>\n",
       "      <td>0.001</td>\n",
       "    </tr>\n",
       "    <tr>\n",
       "      <th>1</th>\n",
       "      <td>0.825000</td>\n",
       "      <td>0.010</td>\n",
       "      <td>0.001</td>\n",
       "    </tr>\n",
       "    <tr>\n",
       "      <th>7</th>\n",
       "      <td>0.812500</td>\n",
       "      <td>0.010</td>\n",
       "      <td>0.100</td>\n",
       "    </tr>\n",
       "    <tr>\n",
       "      <th>4</th>\n",
       "      <td>0.803125</td>\n",
       "      <td>0.010</td>\n",
       "      <td>0.010</td>\n",
       "    </tr>\n",
       "    <tr>\n",
       "      <th>10</th>\n",
       "      <td>0.787500</td>\n",
       "      <td>0.010</td>\n",
       "      <td>0.900</td>\n",
       "    </tr>\n",
       "    <tr>\n",
       "      <th>0</th>\n",
       "      <td>0.481250</td>\n",
       "      <td>0.001</td>\n",
       "      <td>0.001</td>\n",
       "    </tr>\n",
       "    <tr>\n",
       "      <th>6</th>\n",
       "      <td>0.290625</td>\n",
       "      <td>0.001</td>\n",
       "      <td>0.100</td>\n",
       "    </tr>\n",
       "    <tr>\n",
       "      <th>9</th>\n",
       "      <td>0.240625</td>\n",
       "      <td>0.001</td>\n",
       "      <td>0.900</td>\n",
       "    </tr>\n",
       "    <tr>\n",
       "      <th>3</th>\n",
       "      <td>0.203125</td>\n",
       "      <td>0.001</td>\n",
       "      <td>0.010</td>\n",
       "    </tr>\n",
       "  </tbody>\n",
       "</table>\n",
       "</div>"
      ],
      "text/plain": [
       "    mean_accuracy  config/lr  config/momentum\n",
       "5        0.931250      0.100            0.010\n",
       "11       0.931250      0.100            0.900\n",
       "8        0.925000      0.100            0.100\n",
       "2        0.890625      0.100            0.001\n",
       "1        0.825000      0.010            0.001\n",
       "7        0.812500      0.010            0.100\n",
       "4        0.803125      0.010            0.010\n",
       "10       0.787500      0.010            0.900\n",
       "0        0.481250      0.001            0.001\n",
       "6        0.290625      0.001            0.100\n",
       "9        0.240625      0.001            0.900\n",
       "3        0.203125      0.001            0.010"
      ]
     },
     "execution_count": 25,
     "metadata": {},
     "output_type": "execute_result"
    }
   ],
   "source": [
    "analysis.dataframe()[['mean_accuracy', 'config/lr', 'config/momentum']].sort_values('mean_accuracy', ascending=False)"
   ]
  },
  {
   "cell_type": "markdown",
   "metadata": {},
   "source": [
    "How long did it take? We'll compare this value with a different training run in the next lesson."
   ]
  },
  {
   "cell_type": "code",
   "execution_count": 26,
   "metadata": {},
   "outputs": [
    {
     "name": "stdout",
     "output_type": "stream",
     "text": [
      "  10.22 seconds,    0.17 minutes\n"
     ]
    }
   ],
   "source": [
    "stats = analysis.stats()\n",
    "secs = stats[\"timestamp\"] - stats[\"start_time\"]\n",
    "print(f'{secs:7.2f} seconds, {secs/60.0:7.2f} minutes')"
   ]
  },
  {
   "cell_type": "markdown",
   "metadata": {},
   "source": [
    "The next lesson will explore optimization algorithms that speed up HPO."
   ]
  },
  {
   "cell_type": "code",
   "execution_count": 27,
   "metadata": {},
   "outputs": [],
   "source": [
    "shutdown_ray_cluster()"
   ]
  }
 ],
 "metadata": {
  "kernelspec": {
   "display_name": "Python 3 (ipykernel)",
   "language": "python",
   "name": "python3"
  },
  "language_info": {
   "codemirror_mode": {
    "name": "ipython",
    "version": 3
   },
   "file_extension": ".py",
   "mimetype": "text/x-python",
   "name": "python",
   "nbconvert_exporter": "python",
   "pygments_lexer": "ipython3",
   "version": "3.8.12"
  }
 },
 "nbformat": 4,
 "nbformat_minor": 4
}
