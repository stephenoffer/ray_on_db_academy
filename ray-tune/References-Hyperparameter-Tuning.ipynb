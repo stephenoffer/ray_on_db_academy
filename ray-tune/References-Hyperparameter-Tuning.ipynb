{
 "cells": [
  {
   "cell_type": "markdown",
   "metadata": {},
   "source": [
    "# Hyperparameter Tuning References\n",
    "\n",
    "See also:\n",
    "\n",
    "* The [Tune documentation](http://tune.io)\n",
    "* The [Tune API reference](https://docs.ray.io/en/latest/tune/api_docs/overview.html)\n",
    "* [Reinforcement learning references](../ray-rllib/References-Reinforcement-Learning.ipynb)."
   ]
  },
  {
   "cell_type": "markdown",
   "metadata": {},
   "source": [
    "## Other Tutorials, Webinars, Talks and Blog Posts\n",
    "\n",
    "* A [Ray Tune tutorial from Biome](https://www.recogn.ai/biome-text/documentation/tutorials/Hyperparameter_optimization_with_Ray_Tune.html)\n",
    "* [Ray Tune Examples & Tutorials](https://docs.ray.io/en/latest/tune/tutorials/overview.html)\n",
    "* [GridSearchCV 2.0 — New and Improved](https://medium.com/distributed-computing-with-ray/gridsearchcv-2-0-new-and-improved-ee56644cbabf)\n",
    "* [What's New with Ray Tune Libraries](https://www.youtube.com/watch?v=t94gNPREZUc)\n",
    "* [Fast and efficient hyperparameter tuning with Ray Tune](https://www.anyscale.com/events/2021/10/20/fast-scalable-hyperparameter-tuning-ray-tune)\n",
    "* [Scalable Model Training with Ray Tune](https://www.youtube.com/watch?v=eAWUZJe571Y)"
   ]
  },
  {
   "cell_type": "markdown",
   "metadata": {},
   "source": [
    "## Information on Search Algorithms and Schedulers\n",
    "\n",
    "These techniques attempt to optimize the expensive process of HPO. See the lesson [03 Search Algos and Schedulers](03-Search-Algos-and-Schedulers.ipynb) for discussions.\n",
    "\n",
    "### Search Algorithms\n",
    "\n",
    "* [Bayesian Optimization](https://github.com/fmfn/BayesianOptimization)\n",
    "* [BOHB (Bayesian Optimization HyperBand](https://github.com/automl/HpBandSter)\n",
    "* [HyperOpt](http://hyperopt.github.io/hyperopt)\n",
    "* [Nevergrad](https://github.com/facebookresearch/nevergrad)\n",
    "\n",
    "### Schedulers\n",
    "\n",
    "* [Median Stopping Rule](https://research.google.com/pubs/pub46180.html).\n",
    "* [HyperBand](https://arxiv.org/abs/1603.06560)\n",
    "* [ASHA](https://openreview.net/forum?id=S1Y7OOlRZ)\n",
    "* [Population Based Training (PBT)](https://deepmind.com/blog/population-based-training-neural-networks)."
   ]
  }
 ],
 "metadata": {
  "kernelspec": {
   "display_name": "Python 3 (ipykernel)",
   "language": "python",
   "name": "python3"
  },
  "language_info": {
   "codemirror_mode": {
    "name": "ipython",
    "version": 3
   },
   "file_extension": ".py",
   "mimetype": "text/x-python",
   "name": "python",
   "nbconvert_exporter": "python",
   "pygments_lexer": "ipython3",
   "version": "3.8.12"
  }
 },
 "nbformat": 4,
 "nbformat_minor": 4
}
